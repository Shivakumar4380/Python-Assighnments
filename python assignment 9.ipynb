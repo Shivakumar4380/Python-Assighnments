{
 "cells": [
  {
   "cell_type": "markdown",
   "id": "04647a26",
   "metadata": {},
   "source": [
    "1. Python – Replace multiple words with K?"
   ]
  },
  {
   "cell_type": "code",
   "execution_count": 1,
   "id": "87b4c558",
   "metadata": {},
   "outputs": [
    {
     "name": "stdout",
     "output_type": "stream",
     "text": [
      "The original string is : python is best for coding\n",
      "string after multiple replace : k is k for k\n"
     ]
    }
   ],
   "source": [
    "test_string = 'python is best for coding'\n",
    "print(\"The original string is : \" + str (test_string))\n",
    "word_list = ['best', 'coding', 'python']\n",
    "replace_word = 'k'\n",
    "replace_string = ' '.join([replace_word if i in word_list else i for i in test_string.split()])\n",
    "print(\"string after multiple replace : \" + str(replace_string))"
   ]
  },
  {
   "cell_type": "markdown",
   "id": "88440646",
   "metadata": {},
   "source": [
    "2. Python | Permutation of a given string using inbuilt function?\n"
   ]
  },
  {
   "cell_type": "code",
   "execution_count": 2,
   "id": "d916d508",
   "metadata": {},
   "outputs": [
    {
     "name": "stdout",
     "output_type": "stream",
     "text": [
      "------permutations of string in tuples------\n",
      "[('x', 'y', 'z'), ('x', 'z', 'y'), ('y', 'x', 'z'), ('y', 'z', 'x'), ('z', 'x', 'y'), ('z', 'y', 'x')]\n",
      "------permutations in string format------\n",
      "xyz\n",
      "xzy\n",
      "yxz\n",
      "yzx\n",
      "zxy\n",
      "zyx\n"
     ]
    }
   ],
   "source": [
    "import itertools\n",
    "string = \"xyz\"\n",
    "permutation_list = list(itertools.permutations(string))\n",
    "print(\"------permutations of string in tuples------\")\n",
    "print(permutation_list)\n",
    "print(\"------permutations in string format------\")\n",
    "for tup  in permutation_list:\n",
    "    print(\"\".join(tup))"
   ]
  },
  {
   "cell_type": "markdown",
   "id": "822d54b2",
   "metadata": {},
   "source": [
    "3. Python | Check for URL in a String?"
   ]
  },
  {
   "cell_type": "code",
   "execution_count": 12,
   "id": "cf070260",
   "metadata": {},
   "outputs": [
    {
     "name": "stdout",
     "output_type": "stream",
     "text": [
      "Urls:  ['https://www.studytonight.com/']\n"
     ]
    }
   ],
   "source": [
    "import re\n",
    "def findURL(string):\n",
    "    regex=r\"(?i)\\b((?:https?://|www\\d{0,3}[.]|[a-z0-9.\\-]+[.][a-z]{2,4}/)(?:[^\\s()<>]+|\\(([^\\s()<>]+|(\\([^\\s()<>]+\\)))*\\))+(?:\\(([^\\s()<>]+|(\\([^\\s()<>]+\\)))*\\)|[^\\s`!()\\[\\]{};:'\\\".,<>?«»“”‘’]))\"\n",
    "    url= re.findall(regex,string)\n",
    "    return [x[0] for x in url]\n",
    "\n",
    "s = \"Studytonight: https://www.studytonight.com/\"\n",
    "print(\"Urls: \", findURL(s))"
   ]
  },
  {
   "cell_type": "markdown",
   "id": "be3d7c2f",
   "metadata": {},
   "source": [
    "4. Execute a String of Code in Python?"
   ]
  },
  {
   "cell_type": "code",
   "execution_count": 16,
   "id": "a9529e39",
   "metadata": {},
   "outputs": [
    {
     "name": "stdout",
     "output_type": "stream",
     "text": [
      "the list contains an even number\n"
     ]
    }
   ],
   "source": [
    "code = \"\"\"\n",
    "numbers = [11,33,55,39,55,75,37,21,23,41,13,2,4,6,]\n",
    "for num in numbers:\n",
    "   if num%2 == 0:\n",
    "      print ('the list contains an even number')\n",
    "      break\n",
    "else:\n",
    "   print ('the list doesnot contain even number')\n",
    "\"\"\"\n",
    "exec(code)"
   ]
  },
  {
   "cell_type": "markdown",
   "id": "719ddb23",
   "metadata": {},
   "source": [
    "5. String slicing in Python to rotate a string?"
   ]
  },
  {
   "cell_type": "code",
   "execution_count": 25,
   "id": "91d4b654",
   "metadata": {},
   "outputs": [
    {
     "name": "stdout",
     "output_type": "stream",
     "text": [
      "Left Rotation :  xyz\n",
      "Right Rotation :  zxy\n"
     ]
    }
   ],
   "source": [
    "def rotate_string(s,d):\n",
    "    Lfirst = s[0 : d]\n",
    "    Lsecond = s[d :]\n",
    "    Rfirst = s[0 : len(s)-d]\n",
    "    Rsecond = s[len(s)-d : ]\n",
    "    print (\"Left Rotation : \", (Lsecond + Lfirst) )\n",
    "    print (\"Right Rotation : \", (Rsecond + Rfirst))\n",
    "    string = 'xyz'\n",
    "\n",
    "d=4\n",
    "\n",
    "rotate_string(string,d)"
   ]
  },
  {
   "cell_type": "markdown",
   "id": "cd602420",
   "metadata": {},
   "source": [
    "6. String slicing in Python to check if a string can become empty by recursive deletion?"
   ]
  },
  {
   "cell_type": "code",
   "execution_count": 3,
   "id": "f7d3baf1",
   "metadata": {},
   "outputs": [
    {
     "name": "stdout",
     "output_type": "stream",
     "text": [
      "false\n"
     ]
    }
   ],
   "source": [
    "\n",
    "def checkEmpty(input, pattern):\n",
    "     \n",
    "    \n",
    "    if len(input)== 0 and len(pattern)== 0:\n",
    "        return 'true'\n",
    " \n",
    "    \n",
    "    if len(pattern)== 0:\n",
    "        return 'true'\n",
    " \n",
    "    while (len(input) != 0):\n",
    " \n",
    "        \n",
    "        index = input.find(pattern)\n",
    " \n",
    "        \n",
    "        if (index ==(-1)):\n",
    "            return 'false'\n",
    " \n",
    "        \n",
    "        input = input[0:index] + input[index + len(pattern):]           \n",
    "    return 'true'\n",
    " \n",
    "\n",
    "if __name__ == \"__main__\":\n",
    "    input ='pythonforpython'\n",
    "    pattern ='python'\n",
    "    print (checkEmpty(input, pattern))"
   ]
  },
  {
   "cell_type": "markdown",
   "id": "a2461352",
   "metadata": {},
   "source": [
    "7. Python Counter| Find all duplicate characters in string?"
   ]
  },
  {
   "cell_type": "code",
   "execution_count": 37,
   "id": "a535c321",
   "metadata": {},
   "outputs": [
    {
     "name": "stdout",
     "output_type": "stream",
     "text": [
      "j\n",
      "a\n",
      "v\n"
     ]
    }
   ],
   "source": [
    "from collections import Counter\n",
    "def find_dup_char(input):\n",
    "    WC = Counter(input)\n",
    "    for letter, count in WC.items():\n",
    "        if (count > 1):\n",
    "            print(letter)\n",
    "if __name__ == \"__main__\":\n",
    "    input = 'javaforjava'\n",
    "    find_dup_char(input)"
   ]
  },
  {
   "cell_type": "markdown",
   "id": "1107d375",
   "metadata": {},
   "source": [
    "8. Python – Replace all occurrences of a substring in a string?"
   ]
  },
  {
   "cell_type": "code",
   "execution_count": 38,
   "id": "fc79e9c9",
   "metadata": {},
   "outputs": [
    {
     "name": "stdout",
     "output_type": "stream",
     "text": [
      "abcdforabcd\n"
     ]
    }
   ],
   "source": [
    "input_string = \"javaforjava\"\n",
    "s1 = \"java\"\n",
    "s2 = \"abcd\"\n",
    "input_string = input_string.replace(s1,s2)\n",
    "print(input_string)"
   ]
  },
  {
   "cell_type": "markdown",
   "id": "43ae554e",
   "metadata": {},
   "source": [
    "9. Python – Extract Unique values dictionary values?"
   ]
  },
  {
   "cell_type": "code",
   "execution_count": 41,
   "id": "580bb8d6",
   "metadata": {},
   "outputs": [
    {
     "name": "stdout",
     "output_type": "stream",
     "text": [
      "The original dictionary is: {'ram': [3, 6, 7, 12], 'jai': [14, 6, 8, 2], 'ben': [8, 10, 4, 9], 'sam': [1, 2, 3, 4]}\n",
      "The unique vlue list is: [1, 2, 3, 4, 6, 7, 8, 9, 10, 12, 14]\n"
     ]
    }
   ],
   "source": [
    "test_dict = {'ram':[3,6,7,12],\n",
    "             'jai':[14,6,8,2],\n",
    "             'ben':[8,10,4,9],\n",
    "             'sam':[1,2,3,4]}\n",
    "print(\"The original dictionary is: \" + str(test_dict))\n",
    "res = list(sorted({ele for val in test_dict.values() for ele in val}))\n",
    "print(\"The unique vlue list is: \" + str(res))\n",
    "            "
   ]
  },
  {
   "cell_type": "markdown",
   "id": "f8116b70",
   "metadata": {},
   "source": [
    "10. Python program to find the sum of all items in a dictionary?"
   ]
  },
  {
   "cell_type": "code",
   "execution_count": 3,
   "id": "772363b3",
   "metadata": {},
   "outputs": [
    {
     "name": "stdout",
     "output_type": "stream",
     "text": [
      "Sum : 500\n"
     ]
    }
   ],
   "source": [
    "def returnSum(dict):\n",
    "    return sum(dict.values())\n",
    "dict = {'a': 100, 'b': 200, 'c': 200}\n",
    "print(\"Sum :\", returnSum(dict))\n"
   ]
  },
  {
   "cell_type": "code",
   "execution_count": null,
   "id": "716df25b",
   "metadata": {},
   "outputs": [],
   "source": []
  }
 ],
 "metadata": {
  "kernelspec": {
   "display_name": "Python 3 (ipykernel)",
   "language": "python",
   "name": "python3"
  },
  "language_info": {
   "codemirror_mode": {
    "name": "ipython",
    "version": 3
   },
   "file_extension": ".py",
   "mimetype": "text/x-python",
   "name": "python",
   "nbconvert_exporter": "python",
   "pygments_lexer": "ipython3",
   "version": "3.9.12"
  }
 },
 "nbformat": 4,
 "nbformat_minor": 5
}

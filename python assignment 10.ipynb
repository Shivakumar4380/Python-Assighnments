{
 "cells": [
  {
   "cell_type": "markdown",
   "id": "d46e1ac3",
   "metadata": {},
   "source": [
    "1. Python | Ways to remove a key from dictionary?"
   ]
  },
  {
   "cell_type": "code",
   "execution_count": 2,
   "id": "b369b8ef",
   "metadata": {},
   "outputs": [
    {
     "name": "stdout",
     "output_type": "stream",
     "text": [
      "{'sai': 23, 'kanth': 24, 'pandu': 14, 'shiva': 22, 'raj': 20}\n",
      "{'kanth': 24, 'pandu': 14, 'shiva': 22, 'raj': 20}\n"
     ]
    }
   ],
   "source": [
    "test_dict = {\"sai\": 23, \"kanth\": 24, \"pandu\": 14, \"shiva\": 22, \"raj\": 20 }\n",
    "print(test_dict)\n",
    "y= {}\n",
    "for key, value in test_dict.items():\n",
    "    if key != 'sai':\n",
    "        y[key]= value\n",
    "print(y)"
   ]
  },
  {
   "cell_type": "markdown",
   "id": "8e9f5c01",
   "metadata": {},
   "source": [
    "2. Ways to sort list of dictionaries by values in Python – Using itemgetter?"
   ]
  },
  {
   "cell_type": "code",
   "execution_count": 6,
   "id": "5af423e8",
   "metadata": {},
   "outputs": [
    {
     "name": "stdout",
     "output_type": "stream",
     "text": [
      "The list sorted by age is: \n",
      "[{'name': 'jai', 'age': 22}, {'name': 'shi', 'age': 22}, {'name': 'sam', 'age': 28}, {'name': 'ben', 'age': 43}]\n",
      "The list sorted by age and name is: \n",
      "[{'name': 'jai', 'age': 22}, {'name': 'shi', 'age': 22}, {'name': 'sam', 'age': 28}, {'name': 'ben', 'age': 43}]\n",
      "The list sorted by age in discending order is: \n",
      "[{'name': 'ben', 'age': 43}, {'name': 'sam', 'age': 28}, {'name': 'jai', 'age': 22}, {'name': 'shi', 'age': 22}]\n"
     ]
    }
   ],
   "source": [
    "from operator import itemgetter\n",
    "lis= [{\"name\": \"jai\", \"age\": 22},\n",
    "      {\"name\": \"ben\", \"age\": 43},\n",
    "      {\"name\": \"sam\", \"age\": 28},\n",
    "      {\"name\": \"shi\", \"age\": 22}]\n",
    "print(\"The list sorted by age is: \")\n",
    "print(sorted(lis, key=itemgetter('age')))\n",
    "\n",
    "print(\"The list sorted by age and name is: \")\n",
    "print(sorted(lis, key=itemgetter('age','name')))\n",
    "\n",
    "print(\"The list sorted by age in discending order is: \")\n",
    "print(sorted(lis, key=itemgetter('age'),reverse = True))"
   ]
  },
  {
   "cell_type": "markdown",
   "id": "eb11b72e",
   "metadata": {},
   "source": [
    "3. Ways to sort list of dictionaries by values in Python – Using lambda function?"
   ]
  },
  {
   "cell_type": "code",
   "execution_count": 8,
   "id": "34185d64",
   "metadata": {},
   "outputs": [
    {
     "name": "stdout",
     "output_type": "stream",
     "text": [
      "The list sorted by age is: \n",
      "[{'name': 'shi', 'age': 22}, {'name': 'jai', 'age': 22}, {'name': 'sam', 'age': 28}, {'name': 'ben', 'age': 43}]\n",
      "The list sorted by age and name is: \n",
      "[{'name': 'jai', 'age': 22}, {'name': 'shi', 'age': 22}, {'name': 'sam', 'age': 28}, {'name': 'ben', 'age': 43}]\n",
      "The list sorted by age in discending order is: \n",
      "[{'name': 'ben', 'age': 43}, {'name': 'sam', 'age': 28}, {'name': 'shi', 'age': 22}, {'name': 'jai', 'age': 22}]\n"
     ]
    }
   ],
   "source": [
    "from operator import itemgetter\n",
    "lis=[{\"name\": \"shi\", \"age\": 22},\n",
    "     {\"name\": \"sam\", \"age\": 28},\n",
    "     {\"name\": \"jai\", \"age\": 22},\n",
    "     {\"name\": \"ben\", \"age\": 43}]\n",
    "print(\"The list sorted by age is: \")\n",
    "print(sorted(lis, key=lambda i: i['age']))\n",
    "\n",
    "print(\"The list sorted by age and name is: \")\n",
    "print(sorted(lis, key=lambda i: (i['age'],i['name'])))\n",
    "\n",
    "print(\"The list sorted by age in discending order is: \")\n",
    "print(sorted(lis, key=lambda i: i['age'],reverse=True))"
   ]
  },
  {
   "cell_type": "markdown",
   "id": "ac58b334",
   "metadata": {},
   "source": [
    "4. Python | Merging two Dictionaries?"
   ]
  },
  {
   "cell_type": "code",
   "execution_count": 9,
   "id": "b3b41b5f",
   "metadata": {},
   "outputs": [
    {
     "name": "stdout",
     "output_type": "stream",
     "text": [
      "None\n",
      "{'c': 18, 'e': 2, 'a': 25, 'b': 12}\n"
     ]
    }
   ],
   "source": [
    "def merge(dict1,dict2):\n",
    "    return(dict2.update(dict1))\n",
    "dict1={'a': 25,'b': 12}\n",
    "dict2={'c': 18, 'e': 2}\n",
    "print(merge(dict1,dict2))\n",
    "print(dict2)"
   ]
  },
  {
   "cell_type": "markdown",
   "id": "86169271",
   "metadata": {},
   "source": [
    "5. Python – Convert key-values list to flat dictionary?"
   ]
  },
  {
   "cell_type": "code",
   "execution_count": 11,
   "id": "ad38ab33",
   "metadata": {},
   "outputs": [
    {
     "name": "stdout",
     "output_type": "stream",
     "text": [
      "The original dictionary is : {'month': [1, 2, 3, 4], 'name': ['jan', 'feb', 'march', 'may']}\n",
      "Flattened dictionary : {1: 'jan', 2: 'feb', 3: 'march', 4: 'may'}\n"
     ]
    }
   ],
   "source": [
    "from itertools import product\n",
    "test_dict= {'month': [1,2,3,4],\n",
    "            'name' : ['jan','feb','march','may']}\n",
    "print(\"The original dictionary is : \" +str(test_dict))\n",
    "res=dict(zip(test_dict['month'], test_dict['name']))\n",
    "print(\"Flattened dictionary : \" +str(res))\n",
    "            "
   ]
  },
  {
   "cell_type": "markdown",
   "id": "817bff1b",
   "metadata": {},
   "source": [
    "6. Python – Insertion at the beginning in OrderedDict?"
   ]
  },
  {
   "cell_type": "code",
   "execution_count": 24,
   "id": "e35ec51d",
   "metadata": {},
   "outputs": [
    {
     "name": "stdout",
     "output_type": "stream",
     "text": [
      "The dictionary is :\n",
      "OrderedDict([('ben', '1'), ('Jam', '2'), ('Ram', '4')])\n",
      "The resultant dictionary is : \n",
      "OrderedDict([('Man', '7'), ('ben', '1'), ('Jam', '2'), ('Ram', '4')])\n"
     ]
    }
   ],
   "source": [
    "from collections import OrderedDict\n",
    "\n",
    "my_ordered_dict = OrderedDict([('ben', '1'), ('Jam', '2'), ('Ram', '4')])\n",
    "print(\"The dictionary is :\")\n",
    "print(my_ordered_dict)\n",
    "my_ordered_dict.update({'Man':'7'})\n",
    "my_ordered_dict.move_to_end('Man', last = False)\n",
    "\n",
    "print(\"The resultant dictionary is : \")\n",
    "print(my_ordered_dict)"
   ]
  },
  {
   "cell_type": "markdown",
   "id": "2828cbfe",
   "metadata": {},
   "source": [
    "7. Python | Check order of character in string using OrderedDict( )?"
   ]
  },
  {
   "cell_type": "code",
   "execution_count": 1,
   "id": "b854ea71",
   "metadata": {},
   "outputs": [
    {
     "name": "stdout",
     "output_type": "stream",
     "text": [
      "true\n"
     ]
    }
   ],
   "source": [
    "from collections import OrderedDict \n",
    "  \n",
    "def checkOrder(input, pattern): \n",
    "       \n",
    "    dict = OrderedDict.fromkeys(input) \n",
    "   \n",
    "    ptrlen = 0\n",
    "    for key,value in dict.items(): \n",
    "        if (key == pattern[ptrlen]): \n",
    "            ptrlen = ptrlen + 1\n",
    "          \n",
    "        if (ptrlen == (len(pattern))): \n",
    "            return 'true'\n",
    "\n",
    "    return 'false'\n",
    "  \n",
    "# Driver program \n",
    "if __name__ == \"__main__\": \n",
    "    input = 'engineers rock'\n",
    "    pattern = 'er'\n",
    "    print (checkOrder(input,pattern))"
   ]
  },
  {
   "cell_type": "markdown",
   "id": "39c38c4e",
   "metadata": {},
   "source": [
    "8. Dictionary and counter in Python to find winner of election?"
   ]
  },
  {
   "cell_type": "code",
   "execution_count": 4,
   "id": "697a5b5f",
   "metadata": {},
   "outputs": [
    {
     "name": "stdout",
     "output_type": "stream",
     "text": [
      "man\n"
     ]
    }
   ],
   "source": [
    "from collections import Counter\n",
    "votes = ['mani','man','mun','man','main','main','men','madhu','mam','mani','med','man']\n",
    "vote_count=Counter(votes)\n",
    "max_votes=max(vote_count.values())\n",
    "lst=[i for i in vote_count.keys()if vote_count[i]==max_votes]\n",
    "print(sorted(lst)[0])"
   ]
  },
  {
   "cell_type": "markdown",
   "id": "c1eef659",
   "metadata": {},
   "source": [
    "9. Python – Append Dictionary Keys and Values ( In order ) in dictionary?"
   ]
  },
  {
   "cell_type": "code",
   "execution_count": 5,
   "id": "d6224a68",
   "metadata": {},
   "outputs": [
    {
     "name": "stdout",
     "output_type": "stream",
     "text": [
      "The original dictionary is : {'java': 2, 'is': 1, 'best': 3}\n",
      "The orderd keys and values :['java', 'is', 'best', 2, 1, 3]\n"
     ]
    }
   ],
   "source": [
    "my_dict = {\"java\" : 2, \"is\" : 1, \"best\" : 3}\n",
    "print(\"The original dictionary is : \" + str(my_dict))\n",
    "res = list(my_dict.keys()) + list(my_dict.values())\n",
    "print(\"The orderd keys and values :\" + str(res))"
   ]
  },
  {
   "cell_type": "markdown",
   "id": "3ab5726d",
   "metadata": {},
   "source": [
    "10. Python | Sort Python Dictionaries by Key or Value?"
   ]
  },
  {
   "cell_type": "code",
   "execution_count": 10,
   "id": "4b90b154",
   "metadata": {},
   "outputs": [
    {
     "name": "stdout",
     "output_type": "stream",
     "text": [
      "{'ram': '22', 'shiv': '23', 'pranav': '48', 'kanth': '24', 'adi': '30'}\n"
     ]
    }
   ],
   "source": [
    "from collections import OrderedDict\n",
    "dict = {'ram' : '22', 'shiv' : '23', 'pranav' : '48', 'kanth' : '24', 'adi' : '30'}\n",
    "dict1 = OrderedDict(sorted(dict.items()))\n",
    "print(dict)"
   ]
  },
  {
   "cell_type": "code",
   "execution_count": null,
   "id": "5db0771c",
   "metadata": {},
   "outputs": [],
   "source": []
  }
 ],
 "metadata": {
  "kernelspec": {
   "display_name": "Python 3 (ipykernel)",
   "language": "python",
   "name": "python3"
  },
  "language_info": {
   "codemirror_mode": {
    "name": "ipython",
    "version": 3
   },
   "file_extension": ".py",
   "mimetype": "text/x-python",
   "name": "python",
   "nbconvert_exporter": "python",
   "pygments_lexer": "ipython3",
   "version": "3.9.12"
  }
 },
 "nbformat": 4,
 "nbformat_minor": 5
}

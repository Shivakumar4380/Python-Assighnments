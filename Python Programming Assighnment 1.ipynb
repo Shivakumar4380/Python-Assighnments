{
 "cells": [
  {
   "cell_type": "markdown",
   "id": "32189a8d",
   "metadata": {},
   "source": [
    "1.\tWrite a Python program to find those numbers which are divisible by 7 and multiple of 5, between 1500 and 2700 (both included)."
   ]
  },
  {
   "cell_type": "code",
   "execution_count": 1,
   "id": "d491c0ea",
   "metadata": {},
   "outputs": [
    {
     "name": "stdout",
     "output_type": "stream",
     "text": [
      "Ënter first number1 : 1500\n",
      "Ënter second number2 : 2701\n",
      "1505\n",
      "1540\n",
      "1575\n",
      "1610\n",
      "1645\n",
      "1680\n",
      "1715\n",
      "1750\n",
      "1785\n",
      "1820\n",
      "1855\n",
      "1890\n",
      "1925\n",
      "1960\n",
      "1995\n",
      "2030\n",
      "2065\n",
      "2100\n",
      "2135\n",
      "2170\n",
      "2205\n",
      "2240\n",
      "2275\n",
      "2310\n",
      "2345\n",
      "2380\n",
      "2415\n",
      "2450\n",
      "2485\n",
      "2520\n",
      "2555\n",
      "2590\n",
      "2625\n",
      "2660\n",
      "2695\n"
     ]
    }
   ],
   "source": [
    "x = int(input(\"Ënter first number1 : \"))\n",
    "y = int(input(\"Ënter second number2 : \"))\n",
    "for i in range(1500,2701):\n",
    "    if i%7==0 and i%5==0:\n",
    "        print(i)"
   ]
  },
  {
   "cell_type": "markdown",
   "id": "2ca3c3a2",
   "metadata": {},
   "source": [
    "2.\tPython program to add two numbers"
   ]
  },
  {
   "cell_type": "code",
   "execution_count": 2,
   "id": "31c40ad3",
   "metadata": {},
   "outputs": [
    {
     "name": "stdout",
     "output_type": "stream",
     "text": [
      "Ënter number1 : 13\n",
      "Ënter number2 : 5\n",
      "Áddition of two numbers is 18\n"
     ]
    }
   ],
   "source": [
    "x = int(input(\"Ënter number1 : \"))\n",
    "y = int(input(\"Ënter number2 : \"))\n",
    "z = x + y\n",
    "print(f'Áddition of two numbers is {z}')"
   ]
  },
  {
   "cell_type": "markdown",
   "id": "2d788bfd",
   "metadata": {},
   "source": [
    "3.\tMaximum of two numbers in Python"
   ]
  },
  {
   "cell_type": "code",
   "execution_count": 3,
   "id": "710633ac",
   "metadata": {},
   "outputs": [
    {
     "name": "stdout",
     "output_type": "stream",
     "text": [
      "Enter number1 :34\n",
      "Enter number2 :21\n",
      "34\n"
     ]
    }
   ],
   "source": [
    "x = int(input(\"Enter number1 :\"))\n",
    "y = int(input(\"Enter number2 :\")) \n",
    "maximum = max(x, y)\n",
    "print(maximum)"
   ]
  },
  {
   "cell_type": "markdown",
   "id": "c426234b",
   "metadata": {},
   "source": [
    "4.\tPython Program for factorial of a number"
   ]
  },
  {
   "cell_type": "code",
   "execution_count": 15,
   "id": "2b28bf41",
   "metadata": {},
   "outputs": [
    {
     "name": "stdout",
     "output_type": "stream",
     "text": [
      "Ënter any number :7\n",
      "factórial of 7 is 5040\n"
     ]
    }
   ],
   "source": [
    "x = int(input(\"Ënter any number :\"))\n",
    "fact = 1\n",
    "for i in range(1,x+1):\n",
    "    fact = fact*i\n",
    "print(f'factórial of {x} is {fact}')"
   ]
  },
  {
   "cell_type": "markdown",
   "id": "1bf95208",
   "metadata": {},
   "source": [
    "5.\tPython Program for simple interest"
   ]
  },
  {
   "cell_type": "code",
   "execution_count": 16,
   "id": "ee17dc3f",
   "metadata": {},
   "outputs": [
    {
     "name": "stdout",
     "output_type": "stream",
     "text": [
      "Ënter the principle amount : 10000\n",
      "Ënter no of months : 1\n",
      "Please Enter the rate of intrest : 2\n",
      "200.0\n"
     ]
    }
   ],
   "source": [
    "principal = int(input(\"Ënter the principle amount : \"))\n",
    "time   = int(input(\"Ënter no of months : \"))\n",
    "rate = int(input(\"Please Enter the rate of intrest : \"))\n",
    "simple_intrest = (principal*time*rate)/100\n",
    "print(simple_intrest)"
   ]
  },
  {
   "cell_type": "markdown",
   "id": "a3673da4",
   "metadata": {},
   "source": [
    "6.\tPython Program for compound interest"
   ]
  },
  {
   "cell_type": "code",
   "execution_count": 8,
   "id": "72b61336",
   "metadata": {},
   "outputs": [
    {
     "name": "stdout",
     "output_type": "stream",
     "text": [
      "Compound interest :  11616.528400000001\n"
     ]
    }
   ],
   "source": [
    "def compound_interest(principle, rate, time):\n",
    "   CI = principle * (pow((1 + rate / 100), time))\n",
    "   print(\"Compound interest : \", CI)\n",
    "# main\n",
    "compound_interest(10000, 7.78, 2)"
   ]
  },
  {
   "cell_type": "code",
   "execution_count": null,
   "id": "02049151",
   "metadata": {},
   "outputs": [],
   "source": [
    "def compound_interest(principle, rate, time):\n",
    "   CI = principle * (pow((1 + rate / 100), time))\n",
    "   print(\"Compound interest : \", CI)\n",
    "# main\n",
    "compound_interest(10000, 7.78, 2)"
   ]
  },
  {
   "cell_type": "markdown",
   "id": "39662ee6",
   "metadata": {},
   "source": [
    "7.Python Program to check Armstrong Number"
   ]
  },
  {
   "cell_type": "code",
   "execution_count": 11,
   "id": "77ce0647",
   "metadata": {},
   "outputs": [
    {
     "name": "stdout",
     "output_type": "stream",
     "text": [
      "Ënter any number : 153\n",
      "153 is Armstrong number\n"
     ]
    }
   ],
   "source": [
    "num = int(input(\"Ënter any number : \"))\n",
    "sum = 0\n",
    "order = len(str(num))\n",
    "temp = num\n",
    "while temp > 0:\n",
    "    digit = temp%10\n",
    "    sum = sum + digit**order\n",
    "    temp = temp//10\n",
    "if num == sum:\n",
    "    print(num, \"is Armstrong number\")\n",
    "else:\n",
    "    print(num, \"ïs not a Armstrong number\")"
   ]
  },
  {
   "cell_type": "code",
   "execution_count": 21,
   "id": "65bd9ab0",
   "metadata": {},
   "outputs": [
    {
     "name": "stdout",
     "output_type": "stream",
     "text": [
      "Ënter any number : 307\n",
      "307 ïs not a Armstrong number\n"
     ]
    }
   ],
   "source": [
    "num = int(input(\"Ënter any number : \"))\n",
    "sum = 0\n",
    "order = len(str(num))\n",
    "temp = num\n",
    "while temp > 0:\n",
    "    digit = temp%10\n",
    "    sum = sum + digit**order\n",
    "    temp = temp//10\n",
    "if num == sum:\n",
    "    print(num, \"is Armstrong number\")\n",
    "else:\n",
    "    print(num, \"ïs not a Armstrong number\")"
   ]
  },
  {
   "cell_type": "markdown",
   "id": "8d625166",
   "metadata": {},
   "source": [
    "8.\tPython Program for Program to find area of a circle"
   ]
  },
  {
   "cell_type": "code",
   "execution_count": 24,
   "id": "28cabac6",
   "metadata": {},
   "outputs": [
    {
     "name": "stdout",
     "output_type": "stream",
     "text": [
      "Enter any number : 6\n",
      "Area of a circle is 113.14285714285714\n"
     ]
    }
   ],
   "source": [
    "radius = int(input(\"Enter any number : \" ))\n",
    "area_of_a_circle = (22/7)*radius**2\n",
    "print(f'Area of a circle is {area_of_a_circle}')"
   ]
  },
  {
   "cell_type": "markdown",
   "id": "0114f10a",
   "metadata": {},
   "source": [
    "9.\tPython program to print all Prime numbers in an Interval ?"
   ]
  },
  {
   "cell_type": "code",
   "execution_count": 1,
   "id": "bc774aac",
   "metadata": {},
   "outputs": [
    {
     "name": "stdout",
     "output_type": "stream",
     "text": [
      "2\n",
      "3\n",
      "5\n",
      "7\n",
      "11\n",
      "13\n",
      "17\n",
      "19\n",
      "23\n",
      "29\n",
      "31\n",
      "37\n",
      "41\n",
      "43\n",
      "47\n",
      "53\n",
      "59\n",
      "61\n",
      "67\n",
      "71\n",
      "73\n",
      "79\n",
      "83\n",
      "89\n",
      "97\n",
      "101\n",
      "103\n",
      "107\n",
      "109\n",
      "113\n",
      "127\n",
      "131\n",
      "137\n",
      "139\n",
      "149\n",
      "151\n",
      "157\n",
      "163\n",
      "167\n",
      "173\n",
      "179\n",
      "181\n",
      "191\n",
      "193\n",
      "197\n",
      "199\n",
      "211\n",
      "223\n",
      "227\n",
      "229\n",
      "233\n",
      "239\n",
      "241\n",
      "251\n",
      "257\n",
      "263\n",
      "269\n",
      "271\n",
      "277\n",
      "281\n",
      "283\n",
      "293\n",
      "307\n",
      "311\n",
      "313\n",
      "317\n",
      "331\n",
      "337\n",
      "347\n",
      "349\n",
      "353\n",
      "359\n",
      "367\n",
      "373\n",
      "379\n",
      "383\n",
      "389\n",
      "397\n",
      "401\n",
      "409\n",
      "419\n",
      "421\n",
      "431\n",
      "433\n",
      "439\n",
      "443\n",
      "449\n",
      "457\n",
      "461\n",
      "463\n",
      "467\n",
      "479\n",
      "487\n",
      "491\n",
      "499\n",
      "503\n",
      "509\n",
      "521\n",
      "523\n",
      "541\n",
      "547\n",
      "557\n",
      "563\n",
      "569\n",
      "571\n",
      "577\n",
      "587\n",
      "593\n",
      "599\n",
      "601\n",
      "607\n",
      "613\n",
      "617\n",
      "619\n",
      "631\n",
      "641\n",
      "643\n",
      "647\n",
      "653\n",
      "659\n",
      "661\n",
      "673\n",
      "677\n",
      "683\n",
      "691\n",
      "701\n",
      "709\n",
      "719\n",
      "727\n",
      "733\n",
      "739\n",
      "743\n",
      "751\n",
      "757\n",
      "761\n",
      "769\n",
      "773\n",
      "787\n",
      "797\n",
      "809\n",
      "811\n",
      "821\n",
      "823\n",
      "827\n",
      "829\n",
      "839\n",
      "853\n",
      "857\n",
      "859\n",
      "863\n",
      "877\n",
      "881\n",
      "883\n",
      "887\n",
      "907\n",
      "911\n",
      "919\n",
      "929\n",
      "937\n",
      "941\n",
      "947\n",
      "953\n",
      "967\n",
      "971\n",
      "977\n",
      "983\n",
      "991\n",
      "997\n"
     ]
    }
   ],
   "source": [
    "num1 = 1\n",
    "num2 = 1000\n",
    "for num in range(1,1000):\n",
    "    if num > 1:\n",
    "        for i in range(2,num):\n",
    "            if num%i == 0:\n",
    "                break\n",
    "        else:\n",
    "            print(num)     "
   ]
  },
  {
   "cell_type": "markdown",
   "id": "6e55a75e",
   "metadata": {},
   "source": [
    "10.\t Python program to check whether a number is Prime or not"
   ]
  },
  {
   "cell_type": "code",
   "execution_count": 4,
   "id": "b1f9e2e9",
   "metadata": {},
   "outputs": [
    {
     "name": "stdout",
     "output_type": "stream",
     "text": [
      "Enter any number: 52\n",
      "2\n",
      "3\n",
      "5\n",
      "7\n",
      "11\n",
      "13\n",
      "17\n",
      "19\n",
      "23\n",
      "29\n",
      "31\n",
      "37\n",
      "41\n",
      "43\n",
      "47\n"
     ]
    }
   ],
   "source": [
    "x = int(input(\"Enter any number: \"))\n",
    "for num in range(1,x+1):\n",
    "    if num > 1:\n",
    "        for i in range(2,num):\n",
    "            if num % i == 0:\n",
    "                break\n",
    "        else:\n",
    "            print(num)"
   ]
  },
  {
   "cell_type": "code",
   "execution_count": null,
   "id": "401dc67c",
   "metadata": {},
   "outputs": [],
   "source": []
  }
 ],
 "metadata": {
  "kernelspec": {
   "display_name": "Python 3 (ipykernel)",
   "language": "python",
   "name": "python3"
  },
  "language_info": {
   "codemirror_mode": {
    "name": "ipython",
    "version": 3
   },
   "file_extension": ".py",
   "mimetype": "text/x-python",
   "name": "python",
   "nbconvert_exporter": "python",
   "pygments_lexer": "ipython3",
   "version": "3.9.7"
  }
 },
 "nbformat": 4,
 "nbformat_minor": 5
}

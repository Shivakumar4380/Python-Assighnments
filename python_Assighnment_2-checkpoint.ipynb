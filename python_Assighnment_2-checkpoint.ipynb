{
 "cells": [
  {
   "cell_type": "markdown",
   "id": "498e48fc",
   "metadata": {},
   "source": [
    "1. Python Program for n-th Fibonacci number"
   ]
  },
  {
   "cell_type": "code",
   "execution_count": 2,
   "id": "6e104d26",
   "metadata": {},
   "outputs": [
    {
     "name": "stdout",
     "output_type": "stream",
     "text": [
      "Enter How many terms? 9\n",
      "Fibonacci sequence:\n",
      "0\n",
      "1\n",
      "1\n",
      "2\n",
      "3\n",
      "5\n",
      "8\n",
      "13\n",
      "21\n"
     ]
    }
   ],
   "source": [
    "nterms = int(input(\"Enter How many terms? \"))\n",
    "n1,n2 = 0,1\n",
    "count = 0\n",
    "if nterms <= 0:\n",
    "    print(\"Please enter a positive number\")\n",
    "elif nterms == 1:\n",
    "    print(\"Fibonacci sequence upto\",nterms,\":\")\n",
    "    print(n1)\n",
    "else:\n",
    "    print(\"Fibonacci sequence:\")\n",
    "    while count < nterms:\n",
    "        print(n1)\n",
    "        nth = n1 + n2\n",
    "        n1 = n2\n",
    "        n2 = nth\n",
    "        count += 1"
   ]
  },
  {
   "cell_type": "markdown",
   "id": "2e93e2e2",
   "metadata": {},
   "source": [
    "2. Python Program for How to check if a given number is Fibonacci number?"
   ]
  },
  {
   "cell_type": "code",
   "execution_count": 3,
   "id": "66e551b0",
   "metadata": {},
   "outputs": [
    {
     "name": "stdout",
     "output_type": "stream",
     "text": [
      "1 is a fibonacci Number\n",
      "2 is a not fibonacci number\n",
      "3 is a not fibonacci number\n",
      "4 is a not fibonacci number\n",
      "5 is a not fibonacci number\n",
      "6 is a not fibonacci number\n",
      "7 is a not fibonacci number\n",
      "8 is a not fibonacci number\n",
      "9 is a not fibonacci number\n",
      "10 is a not fibonacci number\n"
     ]
    }
   ],
   "source": [
    "def isperfectsquare(x):\n",
    "    s = int(x)\n",
    "    return s*s == x\n",
    "def isfibonacci(n):\n",
    "    return isperfectsquare (5*n*n - 4)\n",
    "for i in range(1,11):\n",
    "    if (isfibonacci(i) == True):\n",
    "        print(i, \"is a fibonacci Number\")\n",
    "    else:\n",
    "        print (i, \"is a not fibonacci number\")"
   ]
  },
  {
   "cell_type": "markdown",
   "id": "58472611",
   "metadata": {},
   "source": [
    "3. Python Program for n\\’th multiple of a number in Fibonacci Series?"
   ]
  },
  {
   "cell_type": "code",
   "execution_count": 12,
   "id": "4b6738eb",
   "metadata": {},
   "outputs": [
    {
     "name": "stdout",
     "output_type": "stream",
     "text": [
      "55\n"
     ]
    }
   ],
   "source": [
    "\n",
    "def fibonacci(n):\n",
    "    a = 0\n",
    "    b = 1\n",
    "    if n < 0:\n",
    "        print(\"Incorrect input\")\n",
    "    elif n == 0:\n",
    "        return a\n",
    "    elif n == 1:\n",
    "        return b\n",
    "    else:\n",
    "        for i in range(2, n):\n",
    "            c = a + b\n",
    "            a = b\n",
    "            b = c\n",
    "        return b\n",
    "    \n",
    "print(fibonacci(11))"
   ]
  },
  {
   "cell_type": "markdown",
   "id": "eb2eca6c",
   "metadata": {},
   "source": [
    "4. Program to print ASCII Value of a character?"
   ]
  },
  {
   "cell_type": "code",
   "execution_count": 3,
   "id": "13bddf5f",
   "metadata": {},
   "outputs": [
    {
     "name": "stdout",
     "output_type": "stream",
     "text": [
      "the ASCII value 'e' is 101\n"
     ]
    }
   ],
   "source": [
    "a = \"e\"\n",
    "print(\"the ASCII value '\"+ a +\"' is\",ord(c))"
   ]
  },
  {
   "cell_type": "markdown",
   "id": "c305b112",
   "metadata": {},
   "source": [
    "5. Python Program for Sum of squares of first n natural numbers?"
   ]
  },
  {
   "cell_type": "code",
   "execution_count": 12,
   "id": "8f2fff25",
   "metadata": {},
   "outputs": [
    {
     "name": "stdout",
     "output_type": "stream",
     "text": [
      "385\n"
     ]
    }
   ],
   "source": [
    "sum = 0 \n",
    "for i in range(1,11):\n",
    "    sum = sum+i**2\n",
    "print(sum)"
   ]
  },
  {
   "cell_type": "markdown",
   "id": "8a81593c",
   "metadata": {},
   "source": [
    "6. Python Program for cube sum of first n natural numbers?"
   ]
  },
  {
   "cell_type": "code",
   "execution_count": 11,
   "id": "0aac01e2",
   "metadata": {},
   "outputs": [
    {
     "name": "stdout",
     "output_type": "stream",
     "text": [
      "3025\n"
     ]
    }
   ],
   "source": [
    "def sumofseries(n):\n",
    "    sum = 0\n",
    "    for i in range(1,n+1):\n",
    "        sum +=i*i*i\n",
    "    return sum\n",
    "n = 10\n",
    "print(sumofseries(10))"
   ]
  },
  {
   "cell_type": "markdown",
   "id": "c962db30",
   "metadata": {},
   "source": [
    "7. Python Program to find sum of array?"
   ]
  },
  {
   "cell_type": "code",
   "execution_count": 12,
   "id": "7a213d85",
   "metadata": {},
   "outputs": [
    {
     "name": "stdout",
     "output_type": "stream",
     "text": [
      "Sum of array [2, 5, 3, 7, 9, 11, 14] is 51\n"
     ]
    }
   ],
   "source": [
    "arr = [2,5,3,7,9,11,14]\n",
    "def sum_array(arr):\n",
    "    sum = 0\n",
    "    for i in arr:\n",
    "        sum = sum + i\n",
    "    return sum\n",
    "sum_array(arr)\n",
    "print(f'Sum of array {arr} is {sum(arr)}')"
   ]
  },
  {
   "cell_type": "markdown",
   "id": "7cbc0dbb",
   "metadata": {},
   "source": [
    "8. Python Program to find largest element in an array?"
   ]
  },
  {
   "cell_type": "code",
   "execution_count": 1,
   "id": "10b4d1ec",
   "metadata": {},
   "outputs": [
    {
     "name": "stdout",
     "output_type": "stream",
     "text": [
      "93\n"
     ]
    }
   ],
   "source": [
    "array=[21,12,32,14,52,33,61,88,93,45,29]\n",
    "max = array[0]\n",
    "for i in range(0,len(array)):\n",
    "    if array[i]>max:\n",
    "        max = array[i]\n",
    "print(max)"
   ]
  },
  {
   "cell_type": "markdown",
   "id": "e357fbf5",
   "metadata": {},
   "source": [
    "9. Python Program for array rotation?"
   ]
  },
  {
   "cell_type": "code",
   "execution_count": 4,
   "id": "d2b83f78",
   "metadata": {},
   "outputs": [
    {
     "name": "stdout",
     "output_type": "stream",
     "text": [
      "Array after left rotation is:  [3, 4, 5, 6, 7, 1, 2]\n"
     ]
    }
   ],
   "source": [
    "def rotateArray(arr, n, d):\n",
    "    temp = []\n",
    "    i = 0\n",
    "    while (i < d):\n",
    "        temp.append(arr[i])\n",
    "        i = i + 1\n",
    "    i = 0\n",
    "    while (d < n):\n",
    "        arr[i] = arr[d]\n",
    "        i = i + 1\n",
    "        d = d + 1\n",
    "    arr[:] = arr[: i] + temp\n",
    "    return arr\n",
    "arr = [1,2,3,4,5,6,7]\n",
    "print(\"Array after left rotation is: \",end=' ')\n",
    "print(rotateArray(arr, len(arr), 2))"
   ]
  },
  {
   "cell_type": "markdown",
   "id": "0dafb6ac",
   "metadata": {},
   "source": [
    "10. Python Program for Reversal algorithm for array rotation?"
   ]
  },
  {
   "cell_type": "code",
   "execution_count": 3,
   "id": "c0263ca1",
   "metadata": {},
   "outputs": [
    {
     "name": "stdout",
     "output_type": "stream",
     "text": [
      "3\n",
      "4\n",
      "5\n",
      "6\n",
      "7\n",
      "8\n",
      "9\n",
      "1\n",
      "2\n"
     ]
    }
   ],
   "source": [
    "def rverseArray(arr, start, end):\n",
    "    while (start < end):\n",
    "        temp = arr[start]\n",
    "        arr[start] = arr[end]\n",
    "        arr[end] = temp\n",
    "        start += 1\n",
    "        end = end-1\n",
    "def leftRotate(arr, d):\n",
    "    n = len(arr)\n",
    "    rverseArray(arr, 0, d-1)\n",
    "    rverseArray(arr, d, n-1)\n",
    "    rverseArray(arr, 0, n-1)\n",
    "def printArray(arr):\n",
    "    for i in range(0, len(arr)):\n",
    "        print (arr[i])\n",
    "arr = [1, 2, 3, 4, 5, 6, 7,8,]\n",
    "leftRotate(arr, 2) \n",
    "printArray(arr)\n",
    "    "
   ]
  },
  {
   "cell_type": "markdown",
   "id": "3d2493ea",
   "metadata": {},
   "source": [
    "11. Python Program to Split the array and add the first part to the end?"
   ]
  },
  {
   "cell_type": "code",
   "execution_count": 8,
   "id": "f7ab5c50",
   "metadata": {},
   "outputs": [
    {
     "name": "stdout",
     "output_type": "stream",
     "text": [
      "Enter an array : 4,28,42,56,72,11\n",
      "Splitting an array and adding the first part to the end (4, 28, 42, 56, 72, 11) is 15\n"
     ]
    }
   ],
   "source": [
    "def split_Arr():\n",
    "    arr = eval(input(\"Enter an array : \"))\n",
    "    print(f'Splitting an array and adding the first part to the end {arr} is {arr[-1]+arr[0]}')\n",
    "split_Arr()"
   ]
  },
  {
   "cell_type": "code",
   "execution_count": null,
   "id": "92c3d774",
   "metadata": {},
   "outputs": [],
   "source": []
  }
 ],
 "metadata": {
  "kernelspec": {
   "display_name": "Python 3 (ipykernel)",
   "language": "python",
   "name": "python3"
  },
  "language_info": {
   "codemirror_mode": {
    "name": "ipython",
    "version": 3
   },
   "file_extension": ".py",
   "mimetype": "text/x-python",
   "name": "python",
   "nbconvert_exporter": "python",
   "pygments_lexer": "ipython3",
   "version": "3.9.7"
  }
 },
 "nbformat": 4,
 "nbformat_minor": 5
}

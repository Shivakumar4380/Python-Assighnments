{
 "cells": [
  {
   "cell_type": "markdown",
   "id": "fdf9b5f5",
   "metadata": {},
   "source": [
    "1. Python program to find smallest number in a list?"
   ]
  },
  {
   "cell_type": "code",
   "execution_count": 3,
   "id": "28179dc0",
   "metadata": {},
   "outputs": [
    {
     "name": "stdout",
     "output_type": "stream",
     "text": [
      "Smallest element is: 6\n"
     ]
    }
   ],
   "source": [
    "list1=[10,20,6,15,65,99]\n",
    "list1.sort()\n",
    "print(\"Smallest element is:\", min(list1))"
   ]
  },
  {
   "cell_type": "markdown",
   "id": "188d59c1",
   "metadata": {},
   "source": [
    "2. Python program to find largest number in a list?"
   ]
  },
  {
   "cell_type": "code",
   "execution_count": 4,
   "id": "b1878ed5",
   "metadata": {},
   "outputs": [
    {
     "name": "stdout",
     "output_type": "stream",
     "text": [
      "largest element is: 99\n"
     ]
    }
   ],
   "source": [
    "list1=[25,46,88,78,54,99,42]\n",
    "list1.sort()\n",
    "print(\"largest element is:\", max(list1))"
   ]
  },
  {
   "cell_type": "markdown",
   "id": "da073677",
   "metadata": {},
   "source": [
    "3. Python program to find second largest number in a list?"
   ]
  },
  {
   "cell_type": "code",
   "execution_count": 9,
   "id": "c22eeefb",
   "metadata": {},
   "outputs": [
    {
     "name": "stdout",
     "output_type": "stream",
     "text": [
      "Second largest number is: 98\n"
     ]
    }
   ],
   "source": [
    "list1=[25,44,86,99,2,18,54,78,98,12]\n",
    "list2=list(set(list1))\n",
    "list2.sort()\n",
    "print(\"Second largest number is:\",list2[-2])"
   ]
  },
  {
   "cell_type": "markdown",
   "id": "f062a019",
   "metadata": {},
   "source": [
    "4. Python program to find N largest elements from a list?"
   ]
  },
  {
   "cell_type": "code",
   "execution_count": 7,
   "id": "94b20839",
   "metadata": {},
   "outputs": [
    {
     "name": "stdout",
     "output_type": "stream",
     "text": [
      "[480, 800, 900, 1400]\n"
     ]
    }
   ],
   "source": [
    "l=[200,450,800,1400,-32,480,900]\n",
    "n=4\n",
    "\n",
    "l.sort()\n",
    "print(l[-n:])"
   ]
  },
  {
   "cell_type": "markdown",
   "id": "619dbe8c",
   "metadata": {},
   "source": [
    "5. Python program to print even numbers in a list?"
   ]
  },
  {
   "cell_type": "code",
   "execution_count": 8,
   "id": "5db1f429",
   "metadata": {},
   "outputs": [
    {
     "name": "stdout",
     "output_type": "stream",
     "text": [
      "20 46 4 44 "
     ]
    }
   ],
   "source": [
    "list1=[20,46,25,4,44,13,11]\n",
    "for num in list1:\n",
    "    if num % 2==0:\n",
    "        print(num,end=\" \")"
   ]
  },
  {
   "cell_type": "markdown",
   "id": "3e929b31",
   "metadata": {},
   "source": [
    "6. Python program to print odd numbers in a List?"
   ]
  },
  {
   "cell_type": "code",
   "execution_count": 11,
   "id": "254d5fca",
   "metadata": {},
   "outputs": [
    {
     "name": "stdout",
     "output_type": "stream",
     "text": [
      "45 13 11 47 "
     ]
    }
   ],
   "source": [
    "list1=[10,20,45,13,88,11,47]\n",
    "for num in list1:\n",
    "    if num % 2!=0:\n",
    "        print(num,end=\" \")"
   ]
  },
  {
   "cell_type": "markdown",
   "id": "8ebc6a8f",
   "metadata": {},
   "source": [
    "7. Python program to print all even numbers in a range?"
   ]
  },
  {
   "cell_type": "code",
   "execution_count": 1,
   "id": "86d1c52c",
   "metadata": {},
   "outputs": [
    {
     "name": "stdout",
     "output_type": "stream",
     "text": [
      "Enter the start of range: 2\n",
      "Enter the end of range: 20\n",
      "2 4 6 8 10 12 14 16 18 20 "
     ]
    }
   ],
   "source": [
    "start=int(input(\"Enter the start of range: \"))\n",
    "end=int(input(\"Enter the end of range: \"))\n",
    "\n",
    "for num in range(start,end + 1):\n",
    "    if  num % 2==0:\n",
    "        print(num,end=\" \")"
   ]
  },
  {
   "cell_type": "markdown",
   "id": "2ef6218c",
   "metadata": {},
   "source": [
    "8. Python program to print all odd numbers in a range?"
   ]
  },
  {
   "cell_type": "code",
   "execution_count": 2,
   "id": "b42f223a",
   "metadata": {},
   "outputs": [
    {
     "name": "stdout",
     "output_type": "stream",
     "text": [
      "7 9 11 13 15 17 19 21 23 25 27 29 "
     ]
    }
   ],
   "source": [
    "start,end=6,29\n",
    "for num in range(start,end+1):\n",
    "    if num % 2!=0:\n",
    "        print(num,end=\" \")"
   ]
  },
  {
   "cell_type": "markdown",
   "id": "bf769bb4",
   "metadata": {},
   "source": [
    "9. Python program to print positive numbers in a list?"
   ]
  },
  {
   "cell_type": "code",
   "execution_count": 3,
   "id": "4bef7140",
   "metadata": {},
   "outputs": [
    {
     "name": "stdout",
     "output_type": "stream",
     "text": [
      "20 46 28 87 12 "
     ]
    }
   ],
   "source": [
    "list1=[20,-22,46,28,87,-38,-45,12]\n",
    "for num in list1:\n",
    "    if num>=0:\n",
    "        print(num,end=\" \")"
   ]
  },
  {
   "cell_type": "markdown",
   "id": "71404e35",
   "metadata": {},
   "source": [
    "10. Python program to print negative numbers in a list?"
   ]
  },
  {
   "cell_type": "code",
   "execution_count": 4,
   "id": "6083a682",
   "metadata": {},
   "outputs": [
    {
     "name": "stdout",
     "output_type": "stream",
     "text": [
      "-42 -22 -89 "
     ]
    }
   ],
   "source": [
    "list1=[12,-42,89,20,-22,-89,40]\n",
    "for num in list1:\n",
    "    if num < 0:\n",
    "        print(num,end=\" \")"
   ]
  },
  {
   "cell_type": "markdown",
   "id": "16e1e0f3",
   "metadata": {},
   "source": [
    "11. Python program to print all positive numbers in a range?"
   ]
  },
  {
   "cell_type": "code",
   "execution_count": 6,
   "id": "83dc397c",
   "metadata": {},
   "outputs": [
    {
     "name": "stdout",
     "output_type": "stream",
     "text": [
      "Enter the start of range: -6\n",
      "Enter tne end of range: 20\n",
      "0 1 2 3 4 5 6 7 8 9 10 11 12 13 14 15 16 17 18 19 20 "
     ]
    }
   ],
   "source": [
    "start=int(input(\"Enter the start of range: \"))\n",
    "end=int(input(\"Enter tne end of range: \"))\n",
    "for num in range(start,end +1):\n",
    "    if num>=0:\n",
    "        print(num,end=\" \")\n"
   ]
  },
  {
   "cell_type": "code",
   "execution_count": null,
   "id": "5588cd9b",
   "metadata": {},
   "outputs": [],
   "source": []
  }
 ],
 "metadata": {
  "kernelspec": {
   "display_name": "Python 3 (ipykernel)",
   "language": "python",
   "name": "python3"
  },
  "language_info": {
   "codemirror_mode": {
    "name": "ipython",
    "version": 3
   },
   "file_extension": ".py",
   "mimetype": "text/x-python",
   "name": "python",
   "nbconvert_exporter": "python",
   "pygments_lexer": "ipython3",
   "version": "3.9.12"
  }
 },
 "nbformat": 4,
 "nbformat_minor": 5
}

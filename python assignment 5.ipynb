{
 "cells": [
  {
   "cell_type": "markdown",
   "id": "2b0064dd",
   "metadata": {},
   "source": [
    "1. Python program to print all negative numbers in a range?\n"
   ]
  },
  {
   "cell_type": "code",
   "execution_count": 1,
   "id": "44f63adc",
   "metadata": {},
   "outputs": [
    {
     "name": "stdout",
     "output_type": "stream",
     "text": [
      "Enter the start of range: -25\n",
      "Enter the end of range: -5\n",
      "-25 -24 -23 -22 -21 -20 -19 -18 -17 -16 -15 -14 -13 -12 -11 -10 -9 -8 -7 -6 -5 "
     ]
    }
   ],
   "source": [
    "start=int(input(\"Enter the start of range: \"))\n",
    "end=int(input(\"Enter the end of range: \"))\n",
    "for num in range(start,end+1):\n",
    "    if num < 0:\n",
    "        print(num,end=\" \")"
   ]
  },
  {
   "cell_type": "markdown",
   "id": "96f2c098",
   "metadata": {},
   "source": [
    "2. Remove multiple elements from a list in Python?"
   ]
  },
  {
   "cell_type": "code",
   "execution_count": 2,
   "id": "3534edac",
   "metadata": {},
   "outputs": [
    {
     "name": "stdout",
     "output_type": "stream",
     "text": [
      "New list after removing all even numbers: [11, 46, 13, 29]\n"
     ]
    }
   ],
   "source": [
    "list1=[11,32,46,13,29,68]\n",
    "for ele in list1:\n",
    "    if ele % 2==0:\n",
    "        list1.remove(ele)\n",
    "        \n",
    "print(\"New list after removing all even numbers:\",list1)"
   ]
  },
  {
   "cell_type": "markdown",
   "id": "25cffb83",
   "metadata": {},
   "source": [
    "3. write a Python program to Remove empty List from List?"
   ]
  },
  {
   "cell_type": "code",
   "execution_count": 3,
   "id": "7e4725d8",
   "metadata": {},
   "outputs": [
    {
     "name": "stdout",
     "output_type": "stream",
     "text": [
      "The original list is:[2, 6, 5, [], [], 46, [], 12]\n",
      "List after empty list removal:[2, 6, 5, 46, 12]\n"
     ]
    }
   ],
   "source": [
    "test_list=[2,6,5,[],[],46,[],12]\n",
    "print(\"The original list is:\"+str(test_list))\n",
    "res=list(filter(None,test_list))\n",
    "print(\"List after empty list removal:\"+str(res))"
   ]
  },
  {
   "cell_type": "markdown",
   "id": "1765605f",
   "metadata": {},
   "source": [
    "4. write a Python program to Cloning or Copying a list?"
   ]
  },
  {
   "cell_type": "code",
   "execution_count": 1,
   "id": "8f25a059",
   "metadata": {},
   "outputs": [
    {
     "name": "stdout",
     "output_type": "stream",
     "text": [
      "Original list: [2, 8, 46, 12, 15, 13, 10]\n",
      "After cloning: [2, 8, 46, 12, 15, 13, 10]\n"
     ]
    }
   ],
   "source": [
    "def cloning(li1):\n",
    "    li_copy=li1[:]\n",
    "    return li_copy\n",
    "\n",
    "li1=[2,8,46,12,15,13,10]\n",
    "li2=cloning(li1)\n",
    "print(\"Original list:\", li1)\n",
    "print(\"After cloning:\", li2)"
   ]
  },
  {
   "cell_type": "markdown",
   "id": "67a817cc",
   "metadata": {},
   "source": [
    "5. write a Python program to Count occurrences of an element in a list?"
   ]
  },
  {
   "cell_type": "code",
   "execution_count": 4,
   "id": "ad4879b3",
   "metadata": {},
   "outputs": [
    {
     "name": "stdout",
     "output_type": "stream",
     "text": [
      "2 has occured4times\n"
     ]
    }
   ],
   "source": [
    "def countx(lst,x):\n",
    "    return lst.count(x)\n",
    "lst=[2,4,2,6,18,15,2,54,2,0]\n",
    "x=2\n",
    "print('{} has occured{}times'.format(x,countx(lst,x)))"
   ]
  },
  {
   "cell_type": "markdown",
   "id": "8ba93ccf",
   "metadata": {},
   "source": [
    "6. write a Python program to Remove empty tuples from a list?"
   ]
  },
  {
   "cell_type": "code",
   "execution_count": 6,
   "id": "c66f26a1",
   "metadata": {},
   "outputs": [
    {
     "name": "stdout",
     "output_type": "stream",
     "text": [
      "[('jai', 15, 8), ('shi', 'fun'), ',']\n"
     ]
    }
   ],
   "source": [
    "def remove(tuples):\n",
    "    tuples=[t for t in tuples if t]\n",
    "    return tuples\n",
    "\n",
    "tuples=[(),('jai',15,8),(),(),('shi','fun'),(\",\")]\n",
    "print(remove(tuples))"
   ]
  },
  {
   "cell_type": "markdown",
   "id": "2a170a00",
   "metadata": {},
   "source": [
    "7. write a Python program to Program to print duplicates from a list of integers?"
   ]
  },
  {
   "cell_type": "code",
   "execution_count": 9,
   "id": "c8a993ad",
   "metadata": {},
   "outputs": [
    {
     "name": "stdout",
     "output_type": "stream",
     "text": [
      "[1, 4, 2, 5]\n"
     ]
    }
   ],
   "source": [
    "lis=[1,4,2,4,5,6,7,8,9,1,2,5,5,3,4]\n",
    "x = []\n",
    "y = []\n",
    "for i in lis:\n",
    "    if i not in x:\n",
    "        x.append(i)\n",
    "for i in x:\n",
    "    if lis.count(i) > 1:\n",
    "        y.append(i)\n",
    "print(y)\n",
    "            "
   ]
  },
  {
   "cell_type": "markdown",
   "id": "c262fd58",
   "metadata": {},
   "source": [
    "8. write a Python program to find Cumulative sum of a list?"
   ]
  },
  {
   "cell_type": "code",
   "execution_count": 10,
   "id": "6d767a08",
   "metadata": {},
   "outputs": [
    {
     "name": "stdout",
     "output_type": "stream",
     "text": [
      "[10]\n",
      "[10, 30]\n",
      "[10, 30, 60]\n",
      "[10, 30, 60, 100]\n",
      "[10, 30, 60, 100, 150]\n"
     ]
    }
   ],
   "source": [
    "list=[10,20,30,40,50]\n",
    "new_list=[]\n",
    "j=0\n",
    "for i in range(0,len(list)):\n",
    "    j+=list[i]\n",
    "    new_list.append(j)\n",
    "    \n",
    "    print(new_list)"
   ]
  },
  {
   "cell_type": "markdown",
   "id": "d4aa7026",
   "metadata": {},
   "source": [
    "9. write a Python program to Sum of number digits in List?"
   ]
  },
  {
   "cell_type": "code",
   "execution_count": 11,
   "id": "cf1814a2",
   "metadata": {},
   "outputs": [
    {
     "name": "stdout",
     "output_type": "stream",
     "text": [
      "The original list is: [48, 56, 78, 36, 24]\n",
      "List integer summation: [12, 11, 15, 9, 6]\n"
     ]
    }
   ],
   "source": [
    "test_list=[48,56,78,36,24]\n",
    "print(\"The original list is: \"+ str(test_list))\n",
    "res=[]\n",
    "for ele in test_list:\n",
    "    sum=0\n",
    "    for digit in str(ele):\n",
    "        sum+=int(digit)\n",
    "    res.append(sum)\n",
    "    \n",
    "print(\"List integer summation: \"+ str(res))"
   ]
  },
  {
   "cell_type": "markdown",
   "id": "6fc4d1aa",
   "metadata": {},
   "source": [
    "10. write a Python program to Break a list into chunks of size N?"
   ]
  },
  {
   "cell_type": "code",
   "execution_count": 12,
   "id": "6d2ac69b",
   "metadata": {},
   "outputs": [
    {
     "name": "stdout",
     "output_type": "stream",
     "text": [
      "[1, 2, 3]\n",
      "[4, 5, 6]\n",
      "[7, 8, 9]\n",
      "[10, 11, 12]\n",
      "[]\n"
     ]
    }
   ],
   "source": [
    "my_list=[1,2,3,4,5,6,7,8,9,10,11,12]\n",
    "start=0\n",
    "end=15\n",
    "step=3\n",
    "for i in range(start,end,step):\n",
    "    x=i\n",
    "    print(my_list[x:x+step])"
   ]
  },
  {
   "cell_type": "markdown",
   "id": "59d4f3d4",
   "metadata": {},
   "source": [
    "11. write a Python program to Sort the values of first list using second list?"
   ]
  },
  {
   "cell_type": "code",
   "execution_count": 14,
   "id": "0bb53759",
   "metadata": {},
   "outputs": [
    {
     "name": "stdout",
     "output_type": "stream",
     "text": [
      "['a', 'd', 'c', 'e', 'b', 'h', 'f', 'g']\n"
     ]
    }
   ],
   "source": [
    "def sort_list(list1,list2):\n",
    "    zipped_pairs=zip(list2,list1)\n",
    "    z=[x for _, x in sorted(zipped_pairs)]\n",
    "    return z\n",
    "\n",
    "x=[\"a\",\"b\",\"c\",\"d\",\"e\",\"f\",\"g\",\"h\"]\n",
    "y=[ 0,  2,  1,  0,  1,  3,  4,  2]\n",
    "print(sort_list(x,y))"
   ]
  },
  {
   "cell_type": "code",
   "execution_count": null,
   "id": "c9c5c07b",
   "metadata": {},
   "outputs": [],
   "source": []
  }
 ],
 "metadata": {
  "kernelspec": {
   "display_name": "Python 3 (ipykernel)",
   "language": "python",
   "name": "python3"
  },
  "language_info": {
   "codemirror_mode": {
    "name": "ipython",
    "version": 3
   },
   "file_extension": ".py",
   "mimetype": "text/x-python",
   "name": "python",
   "nbconvert_exporter": "python",
   "pygments_lexer": "ipython3",
   "version": "3.9.12"
  }
 },
 "nbformat": 4,
 "nbformat_minor": 5
}

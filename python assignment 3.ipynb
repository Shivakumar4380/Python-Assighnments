{
 "cells": [
  {
   "cell_type": "markdown",
   "id": "eaa13317",
   "metadata": {},
   "source": [
    "1. Python Program for Find reminder of array multiplication divided by n?"
   ]
  },
  {
   "cell_type": "code",
   "execution_count": 7,
   "id": "1a7ae087",
   "metadata": {},
   "outputs": [
    {
     "name": "stdout",
     "output_type": "stream",
     "text": [
      "9\n"
     ]
    }
   ],
   "source": [
    "from functools import reduce\n",
    "def find_remainder(arr,n):\n",
    "    sum_1= reduce(lambda x, y: x*y, arr)\n",
    "    remainder= sum_1 % n\n",
    "    \n",
    "    print(remainder)\n",
    "    \n",
    "arr=[100,10,5,25,35,14]\n",
    "n=11\n",
    "find_remainder(arr,n)"
   ]
  },
  {
   "cell_type": "markdown",
   "id": "61d40bda",
   "metadata": {},
   "source": [
    "2. Python Program to check if given array is Monotonic?"
   ]
  },
  {
   "cell_type": "code",
   "execution_count": 5,
   "id": "6a4f5871",
   "metadata": {},
   "outputs": [
    {
     "name": "stdout",
     "output_type": "stream",
     "text": [
      "Enter an array : 4,13,26,8,19,10\n",
      "Array (4, 13, 26, 8, 19, 10) is Not Monotonic\n"
     ]
    }
   ],
   "source": [
    "def monotonic():\n",
    "    arr = eval(input(\"Enter an array : \"))\n",
    "    if(all(arr[i]<=arr[i+1] for i in range(len(arr)-1)) or all(arr[i]>=arr[i+1] for i in range(len(arr)-1))):\n",
    "        print(f'Array {arr} is Monotonic')\n",
    "    else:\n",
    "        print(f'Array {arr} is Not Monotonic')\n",
    "\n",
    "monotonic()\n"
   ]
  },
  {
   "cell_type": "markdown",
   "id": "907137e3",
   "metadata": {},
   "source": [
    "3. Python program to interchange first and last elements in a list?"
   ]
  },
  {
   "cell_type": "code",
   "execution_count": 9,
   "id": "c455bf66",
   "metadata": {},
   "outputs": [
    {
     "name": "stdout",
     "output_type": "stream",
     "text": [
      "[24, 35, 9, 56, 12]\n"
     ]
    }
   ],
   "source": [
    "def swaplist(list):\n",
    "    first=list. pop(0)\n",
    "    last= list.pop(-1) \n",
    "    \n",
    "    list.insert(0,last)\n",
    "    list.append(first)\n",
    "    \n",
    "    return(list)\n",
    "newList = [12,35,9,56,24]\n",
    "\n",
    "print(swaplist(newList))"
   ]
  },
  {
   "cell_type": "markdown",
   "id": "7b0c671d",
   "metadata": {},
   "source": [
    "4. Python program to swap two elements in a list?"
   ]
  },
  {
   "cell_type": "code",
   "execution_count": 10,
   "id": "a836d2d7",
   "metadata": {},
   "outputs": [
    {
     "name": "stdout",
     "output_type": "stream",
     "text": [
      "[56, 45, 20, 44]\n"
     ]
    }
   ],
   "source": [
    "def swapposition(list1,pos1,pos2):\n",
    "    first_ele=list.pop(pos1)\n",
    "    second_ele=list.pop(pos2-1)\n",
    "    \n",
    "    list.insert(pos1,second_ele)\n",
    "    list.insert(pos2,first_ele)\n",
    "    \n",
    "    return(list)\n",
    "list = [20,45,56,44]\n",
    "pos1,pos2=1,3\n",
    "print(swapposition(list,pos1-1,pos2-1))"
   ]
  },
  {
   "cell_type": "markdown",
   "id": "25472e06",
   "metadata": {},
   "source": [
    "5. write a program to find length of list?"
   ]
  },
  {
   "cell_type": "code",
   "execution_count": 11,
   "id": "1609f4fa",
   "metadata": {},
   "outputs": [
    {
     "name": "stdout",
     "output_type": "stream",
     "text": [
      "the length of list is: 9\n"
     ]
    }
   ],
   "source": [
    "n= len([10,20,40,50,30,60,70,90,80])\n",
    "print(\"the length of list is:\",n)\n"
   ]
  },
  {
   "cell_type": "markdown",
   "id": "79f9e014",
   "metadata": {},
   "source": [
    "6. write a program to check if element exists in list?"
   ]
  },
  {
   "cell_type": "code",
   "execution_count": 14,
   "id": "b594e01d",
   "metadata": {},
   "outputs": [
    {
     "name": "stdout",
     "output_type": "stream",
     "text": [
      "checking if 20 exists in list\n",
      "Yes,20 exists in list\n"
     ]
    }
   ],
   "source": [
    "test_list=[20,15,8,65,14,2024]\n",
    "print(\"checking if 20 exists in list\")\n",
    "exists_count=test_list.count(15)\n",
    "if exists_count > 0:\n",
    "    print(\"Yes,20 exists in list\")\n",
    "else:\n",
    "    print(\"No does not exists in list\")\n"
   ]
  },
  {
   "cell_type": "markdown",
   "id": "a900f3ce",
   "metadata": {},
   "source": [
    "7. write a program to clear a list in Python?"
   ]
  },
  {
   "cell_type": "code",
   "execution_count": 18,
   "id": "eec778de",
   "metadata": {},
   "outputs": [
    {
     "name": "stdout",
     "output_type": "stream",
     "text": [
      "list1 before deleting is: [4, 5, 6, 7]\n",
      "list1 after clearing using * = 0: []\n"
     ]
    }
   ],
   "source": [
    "list1=[4,5,6,7]\n",
    "print(\"list1 before deleting is: \"+ str(list1))\n",
    "list1 *=0\n",
    "\n",
    "print(\"list1 after clearing using * = 0: \" + str(list1))\n"
   ]
  },
  {
   "cell_type": "markdown",
   "id": "d8ee9a45",
   "metadata": {},
   "source": [
    "8. write a program to Reversing a List?"
   ]
  },
  {
   "cell_type": "code",
   "execution_count": 1,
   "id": "6756434f",
   "metadata": {},
   "outputs": [
    {
     "name": "stdout",
     "output_type": "stream",
     "text": [
      "[20, 19, 18, 15, 10, 8]\n"
     ]
    }
   ],
   "source": [
    "def reverse(n):\n",
    "    n.reverse()\n",
    "    return n\n",
    "n=[8,10,15,18,19,20]\n",
    "\n",
    "print(reverse(n))\n"
   ]
  },
  {
   "cell_type": "markdown",
   "id": "4210ba9b",
   "metadata": {},
   "source": [
    "9. write a program to find sum of elements in list?"
   ]
  },
  {
   "cell_type": "code",
   "execution_count": 2,
   "id": "5cc9a4af",
   "metadata": {},
   "outputs": [
    {
     "name": "stdout",
     "output_type": "stream",
     "text": [
      "sum of all elements in given list: 204\n"
     ]
    }
   ],
   "source": [
    "list1=[18,22,46,88,26,4]\n",
    "total=sum(list1)\n",
    "\n",
    "print(\"sum of all elements in given list:\", total)\n"
   ]
  },
  {
   "cell_type": "markdown",
   "id": "27a23763",
   "metadata": {},
   "source": [
    "10. write a program to Multiply all numbers in the list?"
   ]
  },
  {
   "cell_type": "code",
   "execution_count": 4,
   "id": "4af5bb4f",
   "metadata": {},
   "outputs": [
    {
     "name": "stdout",
     "output_type": "stream",
     "text": [
      "32\n",
      "252\n"
     ]
    }
   ],
   "source": [
    "import numpy\n",
    "list1=[1,4,8]\n",
    "list2=[3,6,14]\n",
    "result1=numpy.prod(list1)\n",
    "result2=numpy.prod(list2)\n",
    "\n",
    "print(result1)\n",
    "print(result2)"
   ]
  },
  {
   "cell_type": "code",
   "execution_count": null,
   "id": "22405103",
   "metadata": {},
   "outputs": [],
   "source": []
  }
 ],
 "metadata": {
  "kernelspec": {
   "display_name": "Python 3 (ipykernel)",
   "language": "python",
   "name": "python3"
  },
  "language_info": {
   "codemirror_mode": {
    "name": "ipython",
    "version": 3
   },
   "file_extension": ".py",
   "mimetype": "text/x-python",
   "name": "python",
   "nbconvert_exporter": "python",
   "pygments_lexer": "ipython3",
   "version": "3.9.12"
  }
 },
 "nbformat": 4,
 "nbformat_minor": 5
}

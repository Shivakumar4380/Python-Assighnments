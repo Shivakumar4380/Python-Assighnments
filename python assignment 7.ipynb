{
 "cells": [
  {
   "cell_type": "markdown",
   "id": "34e1371b",
   "metadata": {},
   "source": [
    "1. Reverse words in a given String in Python?"
   ]
  },
  {
   "cell_type": "code",
   "execution_count": 11,
   "id": "678dad49",
   "metadata": {},
   "outputs": [
    {
     "name": "stdout",
     "output_type": "stream",
     "text": [
      "java and python\n"
     ]
    }
   ],
   "source": [
    "def rev_sentence(sentence):\n",
    "    words=sentence.split(' ')\n",
    "    reverse_sentence=' '.join(reversed(words))\n",
    "    return reverse_sentence\n",
    "if  __name__ == \"__main__\":\n",
    "    input=\"python and java\"\n",
    "    print(rev_sentence(input))"
   ]
  },
  {
   "cell_type": "markdown",
   "id": "7961ad7a",
   "metadata": {},
   "source": [
    "2. Ways to remove i’th character from string in Python?"
   ]
  },
  {
   "cell_type": "code",
   "execution_count": 15,
   "id": "72610fca",
   "metadata": {},
   "outputs": [
    {
     "name": "stdout",
     "output_type": "stream",
     "text": [
      "The original string is:pythonforpython\n",
      "The string after removal of i'th character:pyhonforpython\n"
     ]
    }
   ],
   "source": [
    "test_str='pythonforpython'\n",
    "print(\"The original string is:\" + test_str)\n",
    "new_str = test_str[:2] + test_str[3:]\n",
    "print(\"The string after removal of i'th character:\"+ new_str)"
   ]
  },
  {
   "cell_type": "markdown",
   "id": "0380154c",
   "metadata": {},
   "source": [
    "3. Python | Check if a Substring is Present in a Given String?"
   ]
  },
  {
   "cell_type": "code",
   "execution_count": 16,
   "id": "9220bace",
   "metadata": {},
   "outputs": [
    {
     "name": "stdout",
     "output_type": "stream",
     "text": [
      "yes\n"
     ]
    }
   ],
   "source": [
    "string=\"java for java\"\n",
    "substring=\"java\"\n",
    "s=string.split()\n",
    "if substring in s:\n",
    "    print(\"yes\")\n",
    "else:\n",
    "    print(\"no\")"
   ]
  },
  {
   "cell_type": "markdown",
   "id": "0e3ef2a8",
   "metadata": {},
   "source": [
    "4. Python – Words Frequency in String Shorthands?"
   ]
  },
  {
   "cell_type": "code",
   "execution_count": 17,
   "id": "6c20fae7",
   "metadata": {},
   "outputs": [
    {
     "name": "stdout",
     "output_type": "stream",
     "text": [
      "The original string is:java is best.java is good and python also\n",
      "The word frequence:{'java': 2, 'is': 2, 'best.java': 1, 'good': 1, 'and': 1, 'python': 1, 'also': 1}\n"
     ]
    }
   ],
   "source": [
    "test_str='java is best.java is good and python also'\n",
    "print(\"The original string is:\" + str(test_str))\n",
    "res={key: test_str.count(key) for key in test_str.split()}\n",
    "print(\"The word frequence:\" + str(res))"
   ]
  },
  {
   "cell_type": "markdown",
   "id": "2898fc1b",
   "metadata": {},
   "source": [
    " 5. Python – Convert Snake case to Pascal case?"
   ]
  },
  {
   "cell_type": "code",
   "execution_count": 19,
   "id": "a21cb793",
   "metadata": {},
   "outputs": [
    {
     "name": "stdout",
     "output_type": "stream",
     "text": [
      "The origional string is:pythonforpython_is_best\n",
      "The string after change case:Pythonforpython Is Best\n"
     ]
    }
   ],
   "source": [
    "test_str='pythonforpython_is_best'\n",
    "print(\"The origional string is:\"+ str(test_str))\n",
    "res=test_str.replace(\"_\",\" \").title().replace(\" \",\" \")\n",
    "print(\"The string after change case:\" + str(res))"
   ]
  },
  {
   "cell_type": "markdown",
   "id": "3a7d6678",
   "metadata": {},
   "source": [
    "6. Find length of a string in python (4 ways)?"
   ]
  },
  {
   "cell_type": "code",
   "execution_count": 20,
   "id": "90466510",
   "metadata": {},
   "outputs": [
    {
     "name": "stdout",
     "output_type": "stream",
     "text": [
      "6\n"
     ]
    }
   ],
   "source": [
    "str = \"python\"\n",
    "print(len(str))"
   ]
  },
  {
   "cell_type": "code",
   "execution_count": 22,
   "id": "a8a4cccf",
   "metadata": {},
   "outputs": [
    {
     "name": "stdout",
     "output_type": "stream",
     "text": [
      "6\n"
     ]
    }
   ],
   "source": [
    "def findLen(str):\n",
    "    counter = 0   \n",
    "    for i in str:\n",
    "        counter += 1\n",
    "    return counter\n",
    "str=\"python\"\n",
    "print(findLen(str))"
   ]
  },
  {
   "cell_type": "code",
   "execution_count": 23,
   "id": "a1dc7bb6",
   "metadata": {},
   "outputs": [
    {
     "name": "stdout",
     "output_type": "stream",
     "text": [
      "6\n"
     ]
    }
   ],
   "source": [
    "def findLen(str):\n",
    "    counter = 0\n",
    "    while str[counter:]:\n",
    "        counter += 1\n",
    "    return counter\n",
    "str=\"python\"\n",
    "print(findLen(str))"
   ]
  },
  {
   "cell_type": "code",
   "execution_count": 25,
   "id": "23c9fdc4",
   "metadata": {},
   "outputs": [
    {
     "name": "stdout",
     "output_type": "stream",
     "text": [
      "6\n"
     ]
    }
   ],
   "source": [
    "def findLen(string):\n",
    "    return sum(1 for i in string);\n",
    "string=\"python\"\n",
    "print(findLen(string))"
   ]
  },
  {
   "cell_type": "markdown",
   "id": "5b0cadd4",
   "metadata": {},
   "source": [
    "7. Python program to print even length words in a string?"
   ]
  },
  {
   "cell_type": "code",
   "execution_count": 27,
   "id": "d2e99501",
   "metadata": {},
   "outputs": [
    {
     "name": "stdout",
     "output_type": "stream",
     "text": [
      "This\n",
      "is\n",
      "python\n",
      "language\n"
     ]
    }
   ],
   "source": [
    "a=\"This is python language\"\n",
    "b=a.split(\" \")\n",
    "for i in s:\n",
    "    if len(i)%2==0:\n",
    "        print(i)"
   ]
  },
  {
   "cell_type": "markdown",
   "id": "2446caa5",
   "metadata": {},
   "source": [
    "8. Python program to accept the strings which contains all vowels?"
   ]
  },
  {
   "cell_type": "code",
   "execution_count": 39,
   "id": "76c1224a",
   "metadata": {},
   "outputs": [
    {
     "name": "stdout",
     "output_type": "stream",
     "text": [
      "not accepted\n"
     ]
    }
   ],
   "source": [
    "def check(string):\n",
    "    string=string.replace(' ','')\n",
    "    string=string.lower()\n",
    "    vowel=[string.count('a'),string.count('e'),string.count('i'),string.count('o'),string.count('u')]\n",
    "    if vowel.count(0) > 0:\n",
    "        return('not accepted')\n",
    "    else:\n",
    "        return('accepted')\n",
    "    \n",
    "    if __name__  ==  \"__main__\":\n",
    "        \n",
    "        string=\"python\"\n",
    "        \n",
    "print(check(string))\n",
    "    "
   ]
  },
  {
   "cell_type": "markdown",
   "id": "6655e644",
   "metadata": {},
   "source": [
    "9. Python | Count the Number of matching characters in a pair of string?"
   ]
  },
  {
   "cell_type": "code",
   "execution_count": 7,
   "id": "9fcdc209",
   "metadata": {},
   "outputs": [
    {
     "name": "stdout",
     "output_type": "stream",
     "text": [
      "No. of matching characters are : 5\n"
     ]
    }
   ],
   "source": [
    "def count(str1 ,str2) :\n",
    "    set_string1 = set(str1)\n",
    "    set_string2 = set(str2)\n",
    "    matched_characters = set_string1 & set_string2\n",
    "    print(\"No. of matching characters are : \" + str(len(matched_characters)) )\n",
    "if __name__ == \"__main__\" :\n",
    "    str1 = 'aabcddekll12@'\n",
    "    str2 = 'bb2211@55k'\n",
    "    count( str1 , str2 )\n",
    "            "
   ]
  },
  {
   "cell_type": "markdown",
   "id": "add451c9",
   "metadata": {},
   "source": [
    "10. Remove all duplicates from a given string in Python?"
   ]
  },
  {
   "cell_type": "code",
   "execution_count": 53,
   "id": "21df3a2d",
   "metadata": {},
   "outputs": [
    {
     "name": "stdout",
     "output_type": "stream",
     "text": [
      "Without Order: nyrfotph\n",
      "With Order: p\n",
      "With Order: py\n",
      "With Order: pyt\n",
      "With Order: pyth\n",
      "With Order: pytho\n",
      "With Order: python\n",
      "With Order: pythonf\n",
      "With Order: pythonf\n",
      "With Order: pythonfr\n",
      "With Order: pythonfr\n",
      "With Order: pythonfr\n",
      "With Order: pythonfr\n",
      "With Order: pythonfr\n",
      "With Order: pythonfr\n",
      "With Order: pythonfr\n"
     ]
    }
   ],
   "source": [
    "\n",
    "def removeDuplicate(str):\n",
    "    s=set(str)\n",
    "    s=\"\".join(s)\n",
    "    print(\"Without Order:\",s)\n",
    "    t=\"\"\n",
    "    for i in str:\n",
    "        if(i in t):\n",
    "            pass\n",
    "        else:\n",
    "            t=t+i\n",
    "        print(\"With Order:\",t)\n",
    "     \n",
    "str=\"pythonforpython\"\n",
    "removeDuplicate(str)"
   ]
  },
  {
   "cell_type": "code",
   "execution_count": null,
   "id": "6fd660e1",
   "metadata": {},
   "outputs": [],
   "source": []
  }
 ],
 "metadata": {
  "kernelspec": {
   "display_name": "Python 3 (ipykernel)",
   "language": "python",
   "name": "python3"
  },
  "language_info": {
   "codemirror_mode": {
    "name": "ipython",
    "version": 3
   },
   "file_extension": ".py",
   "mimetype": "text/x-python",
   "name": "python",
   "nbconvert_exporter": "python",
   "pygments_lexer": "ipython3",
   "version": "3.9.12"
  }
 },
 "nbformat": 4,
 "nbformat_minor": 5
}

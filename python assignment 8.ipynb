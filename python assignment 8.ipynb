{
 "cells": [
  {
   "cell_type": "markdown",
   "id": "c3a420e2",
   "metadata": {},
   "source": [
    "1. Python – Least Frequent Character in String?"
   ]
  },
  {
   "cell_type": "code",
   "execution_count": 2,
   "id": "603dfdce",
   "metadata": {},
   "outputs": [
    {
     "name": "stdout",
     "output_type": "stream",
     "text": [
      "The string is : \n",
      "pythonforpython\n",
      "The minimum of all characters in the string is : \n",
      "f\n"
     ]
    }
   ],
   "source": [
    "from collections import Counter\n",
    "\n",
    "my_str = \"pythonforpython\"\n",
    "\n",
    "print (\"The string is : \")\n",
    "print(my_str)\n",
    "\n",
    "my_result = Counter(my_str)\n",
    "my_result = min(my_result, key = my_result.get)\n",
    "\n",
    "print (\"The minimum of all characters in the string is : \")\n",
    "print(my_result)"
   ]
  },
  {
   "cell_type": "markdown",
   "id": "847d01b8",
   "metadata": {},
   "source": [
    "2.Python | Maximum frequency character in String?"
   ]
  },
  {
   "cell_type": "code",
   "execution_count": 3,
   "id": "20c52ce5",
   "metadata": {},
   "outputs": [
    {
     "name": "stdout",
     "output_type": "stream",
     "text": [
      "The string is : \n",
      "pythonforpython\n",
      "The miximum of all characters in the string is : \n",
      "o\n"
     ]
    }
   ],
   "source": [
    "from collections import Counter\n",
    "\n",
    "my_str = \"pythonforpython\"\n",
    "\n",
    "print (\"The string is : \")\n",
    "print(my_str)\n",
    "\n",
    "my_result = Counter(my_str)\n",
    "my_result = max(my_result, key = my_result.get)\n",
    "\n",
    "print (\"The miximum of all characters in the string is : \")\n",
    "print(my_result)"
   ]
  },
  {
   "cell_type": "markdown",
   "id": "96d7a6b3",
   "metadata": {},
   "source": [
    "3. Python | Program to check if a string contains any special character?"
   ]
  },
  {
   "cell_type": "code",
   "execution_count": 4,
   "id": "25f56e52",
   "metadata": {},
   "outputs": [
    {
     "name": "stdout",
     "output_type": "stream",
     "text": [
      "string is not accepted\n",
      "string is not accepted\n"
     ]
    }
   ],
   "source": [
    "n=\"python&for&python\"\n",
    "n.split()\n",
    "c=0\n",
    "s='[!@#$%^&*()*&^%$#@!]'\n",
    "for i in range((len(n))):\n",
    "    if n[i] in s:\n",
    "        c+=1\n",
    "        if c:\n",
    "            print(\"string is not accepted\")\n",
    "        else:\n",
    "            print(\"string accepetd\")"
   ]
  },
  {
   "cell_type": "markdown",
   "id": "7d9f9c74",
   "metadata": {},
   "source": [
    "4. Generating random strings until a given string is generated?"
   ]
  },
  {
   "cell_type": "code",
   "execution_count": 7,
   "id": "085f02a4",
   "metadata": {},
   "outputs": [
    {
     "name": "stdout",
     "output_type": "stream",
     "text": [
      "B?H,\n",
      "5DUd\n",
      "c;aW\n",
      "c;u \n",
      "OGm,\n",
      "g oW\n",
      "IMO6\n",
      "sG4h\n",
      "6Dja\n",
      "F2ya\n",
      "!2ea\n",
      "5, a\n",
      "2Uma\n",
      "qF.a\n",
      "1LLa\n",
      "pAKa\n",
      "NNCa\n",
      "5fWa\n",
      "eHJa\n",
      "WeVa\n",
      ".qFa\n",
      "kWda\n",
      ":ZDa\n",
      "eVEa\n",
      "bcla\n",
      "fMva\n",
      "lUva\n",
      "xEva\n",
      " 3va\n",
      "i;va\n",
      "KQva\n",
      "r!va\n",
      "Jpva\n",
      "qzva\n",
      "8Vva\n",
      "gUva\n",
      "58va\n",
      "Z.va\n",
      "eJva\n",
      "wgva\n",
      "aBva\n",
      "YXva\n",
      "k,va\n",
      "f!va\n",
      "7qva\n",
      "ycva\n",
      "Dpva\n",
      "3tva\n",
      "Pgva\n",
      "1Uva\n",
      "07va\n",
      "Upva\n",
      "clva\n",
      "pJva\n",
      "Ncva\n",
      "neva\n",
      "zhva\n",
      "fUva\n",
      "m4va\n",
      "CFva\n",
      ",Fva\n",
      "Hmva\n",
      "IRva\n",
      "Lbva\n",
      "J?va\n",
      "zJva\n",
      "s.va\n",
      "J;va\n",
      "LOva\n",
      "p1va\n",
      "qjva\n",
      "uyva\n",
      "R,va\n",
      ";:va\n",
      "bzva\n",
      "Spva\n",
      "Lnva\n",
      "bgva\n",
      "2mva\n",
      "Cvva\n",
      ":cva\n",
      "ZUva\n",
      "?xva\n",
      "j;va\n",
      "jDva\n",
      "jLva\n",
      "j?va\n",
      "jKva\n",
      "jMva\n",
      "jrva\n",
      "jlva\n",
      "jkva\n",
      "jkva\n",
      "jfva\n",
      "jQva\n",
      "jnva\n",
      "java\n",
      "Target matched after 176 iterations\n"
     ]
    }
   ],
   "source": [
    "import string\n",
    "import random\n",
    "import time\n",
    "possibleCharacters = string.ascii_lowercase + string.digits +string.ascii_uppercase + ' ., !?;:'\n",
    "t = \"java\"\n",
    "\n",
    "attemptThis = ''.join(random.choice(possibleCharacters)\n",
    "                                for i in range(len(t)))\n",
    "attemptNext = ''\n",
    "completed = False\n",
    "iteration = 0\n",
    "while completed == False:\n",
    "    print(attemptThis)\n",
    "    attemptNext = ''\n",
    "    completed = True\n",
    "    for i in range(len(t)):\n",
    "        if attemptThis[i] != t[i]:\n",
    "            completed = False\n",
    "            attemptNext += random.choice(possibleCharacters)\n",
    "        else:\n",
    "            attemptNext += t[i]\n",
    "            iteration += 1\n",
    "    attemptThis = attemptNext\n",
    "    time.sleep(0.1)\n",
    "    \n",
    "print(\"Target matched after \" +str(iteration) + \" iterations\")\n",
    "     "
   ]
  },
  {
   "cell_type": "markdown",
   "id": "d6aeb56b",
   "metadata": {},
   "source": [
    "5. Find words which are greater than given length k?"
   ]
  },
  {
   "cell_type": "code",
   "execution_count": 10,
   "id": "051a3863",
   "metadata": {},
   "outputs": [
    {
     "name": "stdout",
     "output_type": "stream",
     "text": [
      "python\n",
      "code\n"
     ]
    }
   ],
   "source": [
    "def word_k(k,s):\n",
    "    word=s.split(\" \")\n",
    "    for x in word:\n",
    "        if len(x)>k:\n",
    "            print(x)\n",
    "k=2\n",
    "s = \"python is code\"\n",
    "word_k(k,s)"
   ]
  },
  {
   "cell_type": "markdown",
   "id": "dff734f9",
   "metadata": {},
   "source": [
    "6. Python program for removing i-th character from a string?"
   ]
  },
  {
   "cell_type": "code",
   "execution_count": 12,
   "id": "1b4d8a48",
   "metadata": {},
   "outputs": [
    {
     "name": "stdout",
     "output_type": "stream",
     "text": [
      "The original string is:javaforjava\n",
      "The string after removal of i'th character : jaaforjava\n"
     ]
    }
   ],
   "source": [
    "test_str=\"javaforjava\"\n",
    "print(\"The original string is:\" + test_str)\n",
    "new_str=\" \"\n",
    "for i in range (len(test_str)):\n",
    "    if i !=2:\n",
    "        new_str=new_str + test_str[i]\n",
    "print(\"The string after removal of i'th character :\" + new_str)"
   ]
  },
  {
   "cell_type": "markdown",
   "id": "9a8dc71a",
   "metadata": {},
   "source": [
    "7. Python program to split and join a string?"
   ]
  },
  {
   "cell_type": "code",
   "execution_count": 13,
   "id": "4863b52b",
   "metadata": {},
   "outputs": [
    {
     "name": "stdout",
     "output_type": "stream",
     "text": [
      "['python', 'is', 'code']\n",
      "python_is_code\n"
     ]
    }
   ],
   "source": [
    "a = \"python for python\"\n",
    "print(s.split(\" \"))\n",
    "print(\"_\".join(s.split()))"
   ]
  },
  {
   "cell_type": "markdown",
   "id": "cea9162e",
   "metadata": {},
   "source": [
    "8. Python | Check if a given string is binary string or not?"
   ]
  },
  {
   "cell_type": "code",
   "execution_count": 14,
   "id": "d1e83244",
   "metadata": {},
   "outputs": [
    {
     "name": "stdout",
     "output_type": "stream",
     "text": [
      "yes\n"
     ]
    }
   ],
   "source": [
    "string=\"1010101010\"\n",
    "if(string.count('1')+string.count('0')==len(string)):\n",
    "    print(\"yes\")\n",
    "else:\n",
    "    print(\"no\")"
   ]
  },
  {
   "cell_type": "markdown",
   "id": "1f4ae557",
   "metadata": {},
   "source": [
    "9. Python program to find uncommon words from two Strings?"
   ]
  },
  {
   "cell_type": "code",
   "execution_count": 15,
   "id": "5c389477",
   "metadata": {},
   "outputs": [
    {
     "name": "stdout",
     "output_type": "stream",
     "text": [
      "['searching', 'form']\n"
     ]
    }
   ],
   "source": [
    "def uncommon (A,B):\n",
    "    un_comm = [i for i in \"\".join(B).split()if i not in \"\".join(A).split()]\n",
    "    return un_comm\n",
    "\n",
    "A=\"python for python\"\n",
    "B=\"searching form python for python\"\n",
    "print(uncommon(A,B))"
   ]
  },
  {
   "cell_type": "markdown",
   "id": "7912dd59",
   "metadata": {},
   "source": [
    "10. Python – Replace duplicate Occurrence in String?"
   ]
  },
  {
   "cell_type": "code",
   "execution_count": 19,
   "id": "2cde6c1a",
   "metadata": {},
   "outputs": [
    {
     "name": "stdout",
     "output_type": "stream",
     "text": [
      "The original string is : rgv if best . rgv also has Classes now. Classes help understand better .\n",
      "The string after replacing : rgv if best . If also has Classes now. This help understand better .\n"
     ]
    }
   ],
   "source": [
    "test_str = 'rgv if best . rgv also has Classes now. Classes help understand better .'\n",
    "print(\"The original string is : \" + str(test_str))\n",
    "repl_dict = {'rgv' :  'If', 'Classes' : 'This' }\n",
    "test_list = test_str.split(' ')\n",
    "res = ' '.join([repl_dict.get(val) if val in repl_dict.keys() and test_list.index(val) != idx \n",
    "                                   else val for idx, val in enumerate(test_list)])\n",
    "print(\"The string after replacing : \" + str(res)) "
   ]
  },
  {
   "cell_type": "code",
   "execution_count": null,
   "id": "e8a5e831",
   "metadata": {},
   "outputs": [],
   "source": []
  }
 ],
 "metadata": {
  "kernelspec": {
   "display_name": "Python 3 (ipykernel)",
   "language": "python",
   "name": "python3"
  },
  "language_info": {
   "codemirror_mode": {
    "name": "ipython",
    "version": 3
   },
   "file_extension": ".py",
   "mimetype": "text/x-python",
   "name": "python",
   "nbconvert_exporter": "python",
   "pygments_lexer": "ipython3",
   "version": "3.9.12"
  }
 },
 "nbformat": 4,
 "nbformat_minor": 5
}

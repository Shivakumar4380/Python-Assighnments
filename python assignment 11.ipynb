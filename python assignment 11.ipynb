{
 "cells": [
  {
   "cell_type": "markdown",
   "id": "e83de50a",
   "metadata": {},
   "source": [
    "1. Python – Sort Dictionary key and values List?"
   ]
  },
  {
   "cell_type": "code",
   "execution_count": 2,
   "id": "011dfd95",
   "metadata": {},
   "outputs": [
    {
     "name": "stdout",
     "output_type": "stream",
     "text": [
      "The original dictionary is : {'java': [2, 4, 6], 'is': [8, 4, 9], 'best': [9, 2, 7]}\n",
      "The sorted dictionary : {'best': [2, 7, 9], 'is': [4, 8, 9], 'java': [2, 4, 6]}\n"
     ]
    }
   ],
   "source": [
    "test_dict = {'java':[2,4,6],\n",
    "             'is' : [8,4,9],\n",
    "             'best':[9,2,7]}\n",
    "print(\"The original dictionary is : \" + str(test_dict))\n",
    "res = dict()\n",
    "for key in sorted(test_dict):\n",
    "    res[key] = sorted(test_dict[key])\n",
    "print(\"The sorted dictionary : \" + str(res))\n",
    "    "
   ]
  },
  {
   "cell_type": "markdown",
   "id": "9a7f7182",
   "metadata": {},
   "source": [
    "2. Handling missing keys in Python dictionaries?"
   ]
  },
  {
   "cell_type": "code",
   "execution_count": 3,
   "id": "d94a625e",
   "metadata": {},
   "outputs": [
    {
     "name": "stdout",
     "output_type": "stream",
     "text": [
      "0091\n",
      "Not found\n"
     ]
    }
   ],
   "source": [
    "country_code = {'india':'0091',\n",
    "                'amreica':'001',\n",
    "                'japan':'0081'}\n",
    "print(country_code.get('india','Not found'))\n",
    "print(country_code.get('nepal','Not found'))\n",
    "               "
   ]
  },
  {
   "cell_type": "markdown",
   "id": "efa07a0c",
   "metadata": {},
   "source": [
    "3. Python dictionary with keys having multiple inputs?"
   ]
  },
  {
   "cell_type": "code",
   "execution_count": 7,
   "id": "07a58ca6",
   "metadata": {},
   "outputs": [
    {
     "name": "stdout",
     "output_type": "stream",
     "text": [
      "{(20, 40, 60): 0, (8, 4, 6): 6}\n"
     ]
    }
   ],
   "source": [
    " import random as rn\n",
    "dict = {}\n",
    "x,y,z = 20,40,60\n",
    "dict[x,y,z] = x + y -z;\n",
    "x,y,z = 8,4,6\n",
    "dict[x,y,z] = x + y -z;\n",
    "print(dict)"
   ]
  },
  {
   "cell_type": "markdown",
   "id": "0cf75c11",
   "metadata": {},
   "source": [
    "4. Print anagrams together in Python using List and Dictionary?"
   ]
  },
  {
   "cell_type": "code",
   "execution_count": 10,
   "id": "a8cb1005",
   "metadata": {},
   "outputs": [
    {
     "name": "stdout",
     "output_type": "stream",
     "text": [
      "The original list : ['fun', 'ben', 'me', 'tea', 'aim', 'tom']\n",
      "The grouped Anagrams : [['fun'], ['ben'], ['me'], ['tea'], ['aim'], ['tom']]\n"
     ]
    }
   ],
   "source": [
    "from collections import defaultdict\n",
    "test_list = ['fun', 'ben',  'me',  'tea', 'aim', 'tom']\n",
    "\n",
    "print(\"The original list : \" + str(test_list))\n",
    "temp = defaultdict(list)\n",
    "for ele in test_list:\n",
    "    temp[str(sorted(ele))].append(ele)\n",
    "res = list(temp.values())\n",
    "\n",
    "print(\"The grouped Anagrams : \" + str(res))"
   ]
  },
  {
   "cell_type": "markdown",
   "id": "4f1a669c",
   "metadata": {},
   "source": [
    "5. K’th Non-repeating Character in Python using List Comprehension and OrderedDict?"
   ]
  },
  {
   "cell_type": "code",
   "execution_count": 16,
   "id": "744d0796",
   "metadata": {},
   "outputs": [
    {
     "name": "stdout",
     "output_type": "stream",
     "text": [
      "a\n"
     ]
    }
   ],
   "source": [
    "from collections import OrderedDict\n",
    "import itertools\n",
    "def kthRepeating(inp,k):\n",
    "    dict=OrderedDict.fromkeys(inp,0)\n",
    "    for ch in inp:\n",
    "        dict[ch]+=1\n",
    "        nonRepeatDict = [key for (key,value) in dict.items() if value==1]\n",
    "    if len(nonRepeatDict) < k:\n",
    "        return 'no ouput.'\n",
    "    else:\n",
    "         return nonRepeatDict[k-1]\n",
    "if __name__ == \"__main__\":\n",
    "    inp = \"tutorialspoint\"\n",
    "    k = 3\n",
    "    print (kthRepeating(inp, k))   "
   ]
  },
  {
   "cell_type": "markdown",
   "id": "f1a35f82",
   "metadata": {},
   "source": [
    "6. Check if binary representations of two numbers are anagram?"
   ]
  },
  {
   "cell_type": "code",
   "execution_count": 21,
   "id": "5febd1b0",
   "metadata": {},
   "outputs": [
    {
     "name": "stdout",
     "output_type": "stream",
     "text": [
      "Yes\n"
     ]
    }
   ],
   "source": [
    "from collections import Counter\n",
    "  \n",
    "def checkAnagram(num1,num2):\n",
    "  \n",
    "    bin1 = bin(num1)[2:]\n",
    "    bin2 = bin(num2)[2:]\n",
    "  \n",
    "    zeros = abs(len(bin1)-len(bin2))\n",
    "    if (len(bin1)>len(bin2)):\n",
    "         bin2 = zeros * '0' + bin2\n",
    "    else:\n",
    "         bin1 = zeros * '0' + bin1\n",
    "   \n",
    "    dict1 = Counter(bin1)\n",
    "    dict2 = Counter(bin2)\n",
    "  \n",
    "    if dict1 == dict2:\n",
    "         print('Yes')\n",
    "    else:\n",
    "         print('No')\n",
    "  \n",
    "if __name__ == \"__main__\":\n",
    "    num1 = 8\n",
    "    num2 = 4\n",
    "    checkAnagram(num1,num2)"
   ]
  },
  {
   "cell_type": "markdown",
   "id": "b4aae31c",
   "metadata": {},
   "source": [
    "7. Python Counter to find the size of largest subset of anagram words?"
   ]
  },
  {
   "cell_type": "code",
   "execution_count": 20,
   "id": "5fdfac46",
   "metadata": {},
   "outputs": [
    {
     "name": "stdout",
     "output_type": "stream",
     "text": [
      "3\n"
     ]
    }
   ],
   "source": [
    "from collections import Counter\n",
    "  \n",
    "def maxAnagramSize(input):\n",
    "  \n",
    "    input = input.split(\" \")\n",
    "  \n",
    "    for i in range(0,len(input)):\n",
    "         input[i]=''.join(sorted(input[i]))\n",
    "  \n",
    "    freqDict = Counter(input)\n",
    "  \n",
    "    print (max(freqDict.values()))\n",
    "  \n",
    "\n",
    "if __name__ == \"__main__\":\n",
    "    input = 'ant magenta magnate tan gnamate'\n",
    "    maxAnagramSize(input)"
   ]
  },
  {
   "cell_type": "markdown",
   "id": "958f34b3",
   "metadata": {},
   "source": [
    "8. Python | Remove all duplicates words from a given sentence?"
   ]
  },
  {
   "cell_type": "code",
   "execution_count": 45,
   "id": "fb0f0d76",
   "metadata": {},
   "outputs": [
    {
     "name": "stdout",
     "output_type": "stream",
     "text": [
      "Python\n",
      "Python is\n",
      "Python is great\n",
      "Python is great and\n",
      "Python is great and Java\n",
      "Python is great and Java also\n"
     ]
    }
   ],
   "source": [
    "s = \"Python is great and Java is also great\"\n",
    "l = s.split()\n",
    "k = []\n",
    "for i in l:\n",
    "    if (s.count(i)>=1 and (i not in k)):\n",
    "        k.append(i)\n",
    "        print(' '.join(k))"
   ]
  },
  {
   "cell_type": "markdown",
   "id": "a1104dc2",
   "metadata": {},
   "source": [
    "9. Python Dictionary to find mirror characters in a string?"
   ]
  },
  {
   "cell_type": "code",
   "execution_count": 23,
   "id": "942d9548",
   "metadata": {},
   "outputs": [
    {
     "name": "stdout",
     "output_type": "stream",
     "text": [
      "paizwlc\n"
     ]
    }
   ],
   "source": [
    "def mirrorChars(input,k):\n",
    " \n",
    "    original = 'abcdefghijklmnopqrstuvwxyz'\n",
    "    reverse = 'zyxwvutsrqponmlkjihgfedcba'\n",
    "    dictChars = dict(zip(original,reverse))\n",
    " \n",
    "    prefix = input[0:k-1]\n",
    "    suffix = input[k-1:]\n",
    "    mirror = ''\n",
    " \n",
    "    for i in range(0,len(suffix)):\n",
    "         mirror = mirror + dictChars[suffix[i]]\n",
    " \n",
    "    print (prefix+mirror)\n",
    "          \n",
    "if __name__ == \"__main__\":\n",
    "    input = 'paradox'\n",
    "    k = 3\n",
    "    mirrorChars(input,k)"
   ]
  },
  {
   "cell_type": "markdown",
   "id": "f5ffa110",
   "metadata": {},
   "source": [
    "10. Counting the frequencies in a list using dictionary in Python?"
   ]
  },
  {
   "cell_type": "code",
   "execution_count": 28,
   "id": "76e00c12",
   "metadata": {},
   "outputs": [
    {
     "name": "stdout",
     "output_type": "stream",
     "text": [
      " 1 :  5\n",
      " 5 :  2\n",
      " 3 :  3\n",
      " 4 :  3\n",
      " 2 :  4\n"
     ]
    }
   ],
   "source": [
    "def CountFrequency(my_list):\n",
    "     \n",
    "    freq = {}\n",
    "    for items in my_list:\n",
    "        freq[items] = my_list.count(items)\n",
    "     \n",
    "    for key, value in freq.items():\n",
    "        print (\"% d : % d\"%(key, value))\n",
    " \n",
    "if __name__ == \"__main__\":\n",
    "    my_list =[1, 1, 1, 5, 5, 3, 1, 3, 3, 1, 4, 4, 4, 2, 2, 2, 2]\n",
    "    CountFrequency(my_list)"
   ]
  }
 ],
 "metadata": {
  "kernelspec": {
   "display_name": "Python 3 (ipykernel)",
   "language": "python",
   "name": "python3"
  },
  "language_info": {
   "codemirror_mode": {
    "name": "ipython",
    "version": 3
   },
   "file_extension": ".py",
   "mimetype": "text/x-python",
   "name": "python",
   "nbconvert_exporter": "python",
   "pygments_lexer": "ipython3",
   "version": "3.9.12"
  }
 },
 "nbformat": 4,
 "nbformat_minor": 5
}

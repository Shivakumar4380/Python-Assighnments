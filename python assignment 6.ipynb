{
 "cells": [
  {
   "cell_type": "markdown",
   "id": "d8723d92",
   "metadata": {},
   "source": [
    "1. Python program to add two Matrices?"
   ]
  },
  {
   "cell_type": "code",
   "execution_count": 3,
   "id": "02fa34b3",
   "metadata": {},
   "outputs": [
    {
     "name": "stdout",
     "output_type": "stream",
     "text": [
      "[10, 10, 10]\n",
      "[0, 0, 0]\n",
      "[0, 0, 0]\n",
      "[10, 10, 10]\n",
      "[10, 10, 10]\n",
      "[0, 0, 0]\n",
      "[10, 10, 10]\n",
      "[10, 10, 10]\n",
      "[10, 10, 10]\n"
     ]
    }
   ],
   "source": [
    "x =  [[1,2,3],\n",
    "      [4,5,6],\n",
    "      [7,8,9]]\n",
    "y =  [[9,8,7],\n",
    "      [6,5,4],\n",
    "      [3,2,1]]\n",
    "\n",
    "result=[[0,0,0],\n",
    "        [0,0,0],\n",
    "        [0,0,0]]\n",
    "\n",
    "for i in range(len(x)):\n",
    "    for j in range(len(x[0])):\n",
    "        result[i][j]=x[i][j]+y[i][j]\n",
    "        \n",
    "    for r in result:\n",
    "        print(r)"
   ]
  },
  {
   "cell_type": "markdown",
   "id": "4fa656e6",
   "metadata": {},
   "source": [
    "2. Python program to multiply two matrices?"
   ]
  },
  {
   "cell_type": "code",
   "execution_count": 7,
   "id": "40588ed0",
   "metadata": {},
   "outputs": [
    {
     "name": "stdout",
     "output_type": "stream",
     "text": [
      "[152, 0, 0, 0]\n",
      "[0, 0, 0, 0]\n",
      "[0, 0, 0, 0]\n",
      "[152, 116, 0, 0]\n",
      "[0, 0, 0, 0]\n",
      "[0, 0, 0, 0]\n",
      "[152, 116, 112, 0]\n",
      "[0, 0, 0, 0]\n",
      "[0, 0, 0, 0]\n",
      "[152, 116, 112, 152]\n",
      "[0, 0, 0, 0]\n",
      "[0, 0, 0, 0]\n",
      "[152, 116, 112, 152]\n",
      "[112, 0, 0, 0]\n",
      "[0, 0, 0, 0]\n",
      "[152, 116, 112, 152]\n",
      "[112, 68, 0, 0]\n",
      "[0, 0, 0, 0]\n",
      "[152, 116, 112, 152]\n",
      "[112, 68, 48, 0]\n",
      "[0, 0, 0, 0]\n",
      "[152, 116, 112, 152]\n",
      "[112, 68, 48, 83]\n",
      "[0, 0, 0, 0]\n",
      "[152, 116, 112, 152]\n",
      "[112, 68, 48, 83]\n",
      "[195, 0, 0, 0]\n",
      "[152, 116, 112, 152]\n",
      "[112, 68, 48, 83]\n",
      "[195, 128, 0, 0]\n",
      "[152, 116, 112, 152]\n",
      "[112, 68, 48, 83]\n",
      "[195, 128, 89, 0]\n",
      "[152, 116, 112, 152]\n",
      "[112, 68, 48, 83]\n",
      "[195, 128, 89, 149]\n"
     ]
    }
   ],
   "source": [
    "A = [[8,12,4],\n",
    "     [6,4,5],\n",
    "     [7,8,9]]\n",
    "B = [[3,0,1,2],\n",
    "     [6,7,8,9],\n",
    "     [14,8,2,7]]\n",
    "result = [[0,0,0,0],\n",
    "          [0,0,0,0],\n",
    "          [0,0,0,0]]\n",
    "for i in range(len(A)):\n",
    "    for j in range(len(B[0])):\n",
    "        \n",
    "         for k in range(len(B)):\n",
    "            \n",
    "            result[i][j]+=A[i][k] * B[k][j]\n",
    "    \n",
    "         for r in result:\n",
    "            print(r)\n",
    "        "
   ]
  },
  {
   "cell_type": "markdown",
   "id": "cbedb30f",
   "metadata": {},
   "source": [
    "3. Python program for Matrix Product?"
   ]
  },
  {
   "cell_type": "code",
   "execution_count": 9,
   "id": "6b2dfdfd",
   "metadata": {},
   "outputs": [
    {
     "name": "stdout",
     "output_type": "stream",
     "text": [
      "[114 160  60  27]\n",
      "[74 97 73 14]\n",
      "[119 157 112  23]\n"
     ]
    }
   ],
   "source": [
    "import numpy as np\n",
    "A = [[12, 7, 3], [4, 5, 6], [7, 8, 9]]\n",
    "B = [[5, 8, 1, 2], [6, 7, 3, 0], [4, 5, 9, 1]]\n",
    "result= [[0,0,0,0], [0,0,0,0], [0,0,0,0]]\n",
    "result= np.dot(A,B)\n",
    "\n",
    "for p in result:\n",
    "    print(p)"
   ]
  },
  {
   "cell_type": "markdown",
   "id": "c26bcdef",
   "metadata": {},
   "source": [
    "4. Adding and Subtracting Matrices in Python?"
   ]
  },
  {
   "cell_type": "code",
   "execution_count": 4,
   "id": "257506d9",
   "metadata": {},
   "outputs": [
    {
     "name": "stdout",
     "output_type": "stream",
     "text": [
      "printing element of first matrix\n",
      "[[6 4]\n",
      " [9 8]]\n",
      "printing element of second matrix\n",
      "[[10 14]\n",
      " [ 9 12]]\n",
      "subtracting of two matrix\n",
      "[[ -4 -10]\n",
      " [  0  -4]]\n"
     ]
    }
   ],
   "source": [
    "import numpy as np\n",
    "A=np.array([[6,4],[9,8]])\n",
    "B=np.array([[10,14],[9,12]])\n",
    "print(\"printing element of first matrix\")\n",
    "print(A)\n",
    "print(\"printing element of second matrix\")\n",
    "print(B)\n",
    "print(\"subtracting of two matrix\")\n",
    "print(np.subtract(A,B))\n"
   ]
  },
  {
   "cell_type": "markdown",
   "id": "80c1ca9d",
   "metadata": {},
   "source": [
    "5. Transpose a matrix in Single line in Python?"
   ]
  },
  {
   "cell_type": "code",
   "execution_count": 5,
   "id": "37cbfaae",
   "metadata": {},
   "outputs": [
    {
     "name": "stdout",
     "output_type": "stream",
     "text": [
      "[[10, 20, 30], [25, 32, 44]]\n",
      "/n\n",
      "[[10 25]\n",
      " [20 32]\n",
      " [30 44]]\n"
     ]
    }
   ],
   "source": [
    "import numpy\n",
    "matrix=[[10,20,30],[25,32,44]]\n",
    "print(matrix)\n",
    "print(\"/n\")\n",
    "print(numpy.transpose(matrix))\n"
   ]
  },
  {
   "cell_type": "markdown",
   "id": "81bede2d",
   "metadata": {},
   "source": [
    "6. Python | Matrix creation of n*n?"
   ]
  },
  {
   "cell_type": "code",
   "execution_count": 6,
   "id": "ff58a5d1",
   "metadata": {},
   "outputs": [
    {
     "name": "stdout",
     "output_type": "stream",
     "text": [
      "The dimension:4\n",
      "The created matrix of N * N: [[1, 2, 3, 4], [5, 6, 7, 8], [9, 10, 11, 12], [13, 14, 15, 16]]\n"
     ]
    }
   ],
   "source": [
    "N=4\n",
    "print(\"The dimension:\"+ str(N))\n",
    "res = [list(range(1+ N * i,1 + N * (i+1)))\n",
    "       for i in range(N)]\n",
    "print(\"The created matrix of N * N: \"+str(res))"
   ]
  },
  {
   "cell_type": "markdown",
   "id": "f5849abf",
   "metadata": {},
   "source": [
    "7. Python | Get Kth Column of Matrix?"
   ]
  },
  {
   "cell_type": "code",
   "execution_count": 7,
   "id": "2756138c",
   "metadata": {},
   "outputs": [
    {
     "name": "stdout",
     "output_type": "stream",
     "text": [
      "The original list is: [[2, 6, 8], [12, 21, 4], [18, 2, 24]]\n",
      "The kth coulmn of matrix is: [8, 4, 24]\n"
     ]
    }
   ],
   "source": [
    "test_list=[[2,6,8,],[12,21,4],[18,2,24]]\n",
    "print(\"The original list is: \"+str(test_list))\n",
    "k=2\n",
    "res=[sub[k]for sub in test_list]\n",
    "print(\"The kth coulmn of matrix is: \"+str(res))"
   ]
  },
  {
   "cell_type": "markdown",
   "id": "3f1ad0db",
   "metadata": {},
   "source": [
    "8. Python – Vertical Concatenation in Matrix?"
   ]
  },
  {
   "cell_type": "code",
   "execution_count": 10,
   "id": "b4bf8a80",
   "metadata": {},
   "outputs": [
    {
     "name": "stdout",
     "output_type": "stream",
     "text": [
      "The original list:[['fig', 'food'], ['is', 'for'], ['best']]\n",
      "list after column concatanation : [' fig']\n",
      "list after column concatanation : [' fig', ' figfor']\n",
      "list after column concatanation : [' fig', ' figfor', ' figfor']\n"
     ]
    }
   ],
   "source": [
    "test_list=[[\"fig\",\"food\"],[\"is\",\"for\"],[\"best\"]]\n",
    "print(\"The original list:\"+str(test_list))\n",
    "res=[]\n",
    "N=0\n",
    "while N !=len(test_list):\n",
    "    temp= ' '\n",
    "    for idx in test_list:\n",
    "        try: temp = temp + idx[N]\n",
    "        except IndexError: pass\n",
    "        res.append(temp)\n",
    "        N=N + 1\n",
    "        res=[ele for ele in res if ele]\n",
    "        print(\"list after column concatanation : \"+str(res))"
   ]
  },
  {
   "cell_type": "markdown",
   "id": "40e32a89",
   "metadata": {},
   "source": [
    "9. Python program to check if a string is palindrome or not?"
   ]
  },
  {
   "cell_type": "code",
   "execution_count": 18,
   "id": "73c87c21",
   "metadata": {},
   "outputs": [
    {
     "name": "stdout",
     "output_type": "stream",
     "text": [
      "Yes\n"
     ]
    }
   ],
   "source": [
    "def ispalindrome(s):\n",
    "    return s == s[::-1]\n",
    "s=\"radar\"\n",
    "ans=ispalindrome(s)\n",
    "if ans:\n",
    "    print(\"Yes\")\n",
    "else:\n",
    "    print(\"No\")"
   ]
  },
  {
   "cell_type": "markdown",
   "id": "41a23e31",
   "metadata": {},
   "source": [
    "10. Python program to check whether the string is Symmetrical or Palindrome?"
   ]
  },
  {
   "cell_type": "code",
   "execution_count": 24,
   "id": "be5105ff",
   "metadata": {},
   "outputs": [
    {
     "ename": "SyntaxError",
     "evalue": "invalid syntax (514367201.py, line 5)",
     "output_type": "error",
     "traceback": [
      "\u001b[1;36m  Input \u001b[1;32mIn [24]\u001b[1;36m\u001b[0m\n\u001b[1;33m    if  len(string) % 2 == 0:\u001b[0m\n\u001b[1;37m                            ^\u001b[0m\n\u001b[1;31mSyntaxError\u001b[0m\u001b[1;31m:\u001b[0m invalid syntax\n"
     ]
    }
   ],
   "source": [
    "string= 'amaama'\n",
    "half= int(len(string /2)\n",
    "          \n",
    "          \n",
    "if  len(string) % 2 == 0:\n",
    "        first_str=string[:half]\n",
    "        second_str=string[half:]\n",
    "else:\n",
    "          first_str=string[:half]\n",
    "          second_str=string[half+1:]\n",
    "          \n",
    "if first_str == second_str:\n",
    "          print(string,'string is symmetrical')\n",
    "else:\n",
    "          print(string,'string is not symmetrical')\n",
    "          \n",
    "if first_str == second_str[::-1]:\n",
    "          print(string,'string is palindrome')\n",
    "else:\n",
    "          print(string,'string is not palindrome')\n",
    "          \n",
    "          \n",
    "          \n",
    "          "
   ]
  },
  {
   "cell_type": "code",
   "execution_count": null,
   "id": "b1549cf4",
   "metadata": {},
   "outputs": [],
   "source": []
  }
 ],
 "metadata": {
  "kernelspec": {
   "display_name": "Python 3 (ipykernel)",
   "language": "python",
   "name": "python3"
  },
  "language_info": {
   "codemirror_mode": {
    "name": "ipython",
    "version": 3
   },
   "file_extension": ".py",
   "mimetype": "text/x-python",
   "name": "python",
   "nbconvert_exporter": "python",
   "pygments_lexer": "ipython3",
   "version": "3.9.12"
  }
 },
 "nbformat": 4,
 "nbformat_minor": 5
}
